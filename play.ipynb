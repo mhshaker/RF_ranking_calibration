{
 "cells": [
  {
   "cell_type": "code",
   "execution_count": 1,
   "metadata": {},
   "outputs": [
    {
     "name": "stdout",
     "output_type": "stream",
     "text": [
      "Accuracy: 0.8700\n"
     ]
    }
   ],
   "source": [
    "from sklearn.ensemble import RandomForestClassifier\n",
    "from sklearn.utils.validation import check_array\n",
    "import numpy as np\n",
    "from sklearn.model_selection import RandomizedSearchCV\n",
    "# Example usage:\n",
    "from sklearn.datasets import make_classification\n",
    "from sklearn.model_selection import train_test_split\n",
    "from sklearn.metrics import accuracy_score\n",
    "\n",
    "class CustomRandomForestClassifier(RandomForestClassifier):\n",
    "    def __init__(\n",
    "                    self,\n",
    "                    n_estimators=100,\n",
    "                    criterion=\"gini\",\n",
    "                    max_depth=None,\n",
    "                    min_samples_split=2,\n",
    "                    min_samples_leaf=1,\n",
    "                    max_features=\"sqrt\",\n",
    "                    max_leaf_nodes=None,\n",
    "                    bootstrap=True,\n",
    "                    oob_score=False,\n",
    "                    class_weight=None,\n",
    "                    curt_v=0, **kwargs\n",
    "                ):\n",
    "        super().__init__(**kwargs)\n",
    "        self.curt_v = curt_v\n",
    "        self.n_estimators = n_estimators\n",
    "        self.criterion = criterion\n",
    "        self.max_depth = max_depth\n",
    "        self.min_samples_split = min_samples_split\n",
    "        self.min_samples_leaf = min_samples_leaf\n",
    "        self.max_features = max_features\n",
    "        self.max_leaf_nodes = max_leaf_nodes\n",
    "        self.class_weight = class_weight\n",
    "        self.oob_score = oob_score\n",
    "        self.bootstrap = bootstrap\n",
    "\n",
    "# Generate sample data\n",
    "X, y = make_classification(n_samples=1000, n_features=20, random_state=42)\n",
    "\n",
    "# Split the data into training and test sets\n",
    "X_train, X_test, y_train, y_test = train_test_split(X, y, test_size=0.2, random_state=42)\n",
    "\n",
    "\n",
    "search_space =  {\n",
    "                    \"n_estimators\": [10],\n",
    "                    \"curt_v\":  np.arange(2, 400).tolist(), # [None, 5, 10, 15, 20, 30, 50], #\n",
    "                    # \"max_depth\":  np.arange(2, 100).tolist(), # [None, 5, 10, 15, 20, 30, 50], #\n",
    "                    # \"criterion\": [\"gini\", \"entropy\"],\n",
    "                    # \"max_features\": ['sqrt', 'log2', None],\n",
    "                    # \"min_samples_split\": np.arange(2, 11).tolist(),\n",
    "                    # \"min_samples_leaf\":  np.arange(1, 200).tolist(),\n",
    "                    # 'class_weight': [None, 'balanced', 'balanced_subsample'],  # Weight for each class\n",
    "                    # \"oob_score\": [False]\n",
    "                }\n",
    "\n",
    "\n",
    "# Create an instance of the custom RandomForestClassifier\n",
    "clf = CustomRandomForestClassifier()\n",
    "# clf = RandomForestClassifier(random_state=42)\n",
    "\n",
    "RS = RandomizedSearchCV(clf, search_space, scoring=[\"neg_brier_score\"], refit=\"neg_brier_score\", cv=5, n_iter=50, random_state=0)\n",
    "RS.fit(X_train, y_train)\n",
    "RF = RS.best_estimator_\n",
    "\n",
    "\n",
    "# Fit the model\n",
    "# clf.fit(X_train, y_train)\n",
    "\n",
    "# Predict on the test set\n",
    "y_pred = RF.predict(X_test)\n",
    "\n",
    "# Evaluate the accuracy\n",
    "accuracy = accuracy_score(y_test, y_pred)\n",
    "print(f\"Accuracy: {accuracy:.4f}\")\n"
   ]
  },
  {
   "cell_type": "code",
   "execution_count": 2,
   "metadata": {},
   "outputs": [
    {
     "data": {
      "text/plain": [
       "{'n_estimators': 10, 'curt_v': 196}"
      ]
     },
     "execution_count": 2,
     "metadata": {},
     "output_type": "execute_result"
    }
   ],
   "source": [
    "RS.best_params_"
   ]
  }
 ],
 "metadata": {
  "kernelspec": {
   "display_name": "RFcalib",
   "language": "python",
   "name": "python3"
  },
  "language_info": {
   "codemirror_mode": {
    "name": "ipython",
    "version": 3
   },
   "file_extension": ".py",
   "mimetype": "text/x-python",
   "name": "python",
   "nbconvert_exporter": "python",
   "pygments_lexer": "ipython3",
   "version": "3.11.1"
  },
  "orig_nbformat": 4
 },
 "nbformat": 4,
 "nbformat_minor": 2
}
