{
 "cells": [
  {
   "cell_type": "code",
   "execution_count": 1,
   "metadata": {},
   "outputs": [
    {
     "name": "stdout",
     "output_type": "stream",
     "text": [
      "{'DNN_layer1': 'value1', 'DNN_layer2': 'value2', 'DNN_output': 'value3'}\n"
     ]
    }
   ],
   "source": [
    "# Original dictionary\n",
    "original_dict = {\n",
    "    'NN_layer1': 'value1',\n",
    "    'NN_layer2': 'value2',\n",
    "    'NN_output': 'value3'\n",
    "}\n",
    "\n",
    "# Create a new dictionary with modified keys\n",
    "updated_dict = {key.replace('NN', 'DNN'): value for key, value in original_dict.items()}\n",
    "\n",
    "print(updated_dict)\n"
   ]
  }
 ],
 "metadata": {
  "kernelspec": {
   "display_name": "RFcalib",
   "language": "python",
   "name": "python3"
  },
  "language_info": {
   "codemirror_mode": {
    "name": "ipython",
    "version": 3
   },
   "file_extension": ".py",
   "mimetype": "text/x-python",
   "name": "python",
   "nbconvert_exporter": "python",
   "pygments_lexer": "ipython3",
   "version": "3.11.1"
  },
  "orig_nbformat": 4
 },
 "nbformat": 4,
 "nbformat_minor": 2
}
