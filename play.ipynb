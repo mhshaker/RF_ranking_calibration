{
 "cells": [
  {
   "cell_type": "code",
   "execution_count": 1,
   "metadata": {},
   "outputs": [],
   "source": [
    "params = {\n",
    "    # exp\n",
    "    \"seed\": 0,\n",
    "    \n",
    "    \"data_size\": 1000,\n",
    "    \"n_features\": 2,\n",
    "\n",
    "    \"class1_mean_min\":0, \n",
    "    \"class1_mean_max\":1,\n",
    "    \"class2_mean_min\":0, \n",
    "    \"class2_mean_max\":1, \n",
    "\n",
    "    \"class1_cov_min\":1, \n",
    "    \"class1_cov_max\":2,\n",
    "    \"class2_cov_min\":1, \n",
    "    \"class2_cov_max\":2, \n",
    "    \n",
    "}\n"
   ]
  },
  {
   "cell_type": "code",
   "execution_count": 2,
   "metadata": {},
   "outputs": [
    {
     "name": "stdout",
     "output_type": "stream",
     "text": [
      "Success in 2 n_features accuracy 0.745 runs 0.293\n",
      "Success in 3 n_features accuracy 0.745 runs 0.17200000000000001\n",
      "Success in 4 n_features accuracy 0.735 runs 0.091\n",
      "Success in 5 n_features accuracy 0.735 runs 0.122\n",
      "Success in 6 n_features accuracy 0.735 runs 0.001\n",
      "Success in 7 n_features accuracy 0.74 runs 0.01\n",
      "Success in 8 n_features accuracy 0.74 runs 0.251\n",
      "Success in 9 n_features accuracy 0.74 runs 0.005\n",
      "Success in 10 n_features accuracy 0.735 runs 0.023\n",
      "Success in 11 n_features accuracy 0.74 runs 0.019\n",
      "Success in 12 n_features accuracy 0.74 runs 0.058\n",
      "Success in 13 n_features accuracy 0.735 runs 0.01\n",
      "Success in 14 n_features accuracy 0.74 runs 0.011\n",
      "Success in 15 n_features accuracy 0.745 runs 0.002\n",
      "Success in 16 n_features accuracy 0.735 runs 0.006\n",
      "Success in 17 n_features accuracy 0.74 runs 0.005\n",
      "Success in 18 n_features accuracy 0.745 runs 0.003\n",
      "Success in 19 n_features accuracy 0.745 runs 0.007\n",
      "Success in 20 n_features accuracy 0.745 runs 0.007\n",
      "Success in 21 n_features accuracy 0.735 runs 0.04\n",
      "Success in 22 n_features accuracy 0.74 runs 0.049\n",
      "Success in 23 n_features accuracy 0.74 runs 0.034\n",
      "Success in 24 n_features accuracy 0.745 runs 0.024\n",
      "Success in 25 n_features accuracy 0.735 runs 0.019\n",
      "Success in 26 n_features accuracy 0.745 runs 0.018000000000000002\n",
      "Success in 27 n_features accuracy 0.735 runs 0.019\n",
      "Success in 28 n_features accuracy 0.745 runs 0.014\n",
      "Success in 30 n_features accuracy 0.74 runs 0.015\n",
      "Success in 31 n_features accuracy 0.745 runs 0.066\n",
      "Success in 32 n_features accuracy 0.74 runs 0.023\n",
      "Success in 33 n_features accuracy 0.74 runs 0.004\n",
      "Success in 36 n_features accuracy 0.735 runs 0.003\n",
      "Success in 37 n_features accuracy 0.735 runs 0.055\n",
      "Success in 38 n_features accuracy 0.74 runs 0.006\n"
     ]
    }
   ],
   "source": [
    "import Data.data_provider as dp\n",
    "\n",
    "for nf in range(2,50):\n",
    "    X, y, tp = dp.make_classification_gaussian_with_true_prob(params[\"data_size\"], \n",
    "                                                            nf, \n",
    "                                                            class1_mean_min = params[\"class1_mean_min\"], \n",
    "                                                            class1_mean_max = params[\"class1_mean_max\"],\n",
    "                                                            class2_mean_min = params[\"class2_mean_min\"], \n",
    "                                                            class2_mean_max = params[\"class2_mean_max\"], \n",
    "                                                            class1_cov_min = params[\"class1_cov_min\"], \n",
    "                                                            class1_cov_max = params[\"class1_cov_max\"],\n",
    "                                                            class2_cov_min = params[\"class2_cov_min\"], \n",
    "                                                            class2_cov_max = params[\"class2_cov_max\"] \n",
    "                                                            , bais_accuracy=0.75)\n"
   ]
  }
 ],
 "metadata": {
  "kernelspec": {
   "display_name": "RFcalib",
   "language": "python",
   "name": "python3"
  },
  "language_info": {
   "codemirror_mode": {
    "name": "ipython",
    "version": 3
   },
   "file_extension": ".py",
   "mimetype": "text/x-python",
   "name": "python",
   "nbconvert_exporter": "python",
   "pygments_lexer": "ipython3",
   "version": "3.11.1"
  },
  "orig_nbformat": 4
 },
 "nbformat": 4,
 "nbformat_minor": 2
}
