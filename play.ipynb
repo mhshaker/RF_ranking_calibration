{
 "cells": [
  {
   "cell_type": "code",
   "execution_count": 1,
   "metadata": {},
   "outputs": [],
   "source": [
    "params = {\n",
    "    # exp\n",
    "    \"seed\": 0,\n",
    "    \n",
    "    \"data_size\": 1000,\n",
    "    \"n_features\": 2,\n",
    "\n",
    "    \"class1_mean_min\":0, \n",
    "    \"class1_mean_max\":1,\n",
    "    \"class2_mean_min\":2, \n",
    "    \"class2_mean_max\":3, \n",
    "\n",
    "    \"class1_cov_min\":1, \n",
    "    \"class1_cov_max\":2,\n",
    "    \"class2_cov_min\":1, \n",
    "    \"class2_cov_max\":2.5, \n",
    "    \n",
    "}\n"
   ]
  },
  {
   "cell_type": "code",
   "execution_count": 2,
   "metadata": {},
   "outputs": [
    {
     "name": "stdout",
     "output_type": "stream",
     "text": [
      "2: 1.0,\n",
      "4: 1.0,\n",
      "6: 1.0,\n",
      "8: 1.0,\n",
      "10: 1.0,\n",
      "12: 1.0,\n",
      "14: 1.0,\n",
      "16: 1.0,\n",
      "18: 1.0,\n",
      "20: 1.0,\n",
      "22: 1.0,\n",
      "24: 1.0,\n",
      "26: 1.0,\n",
      "28: 1.0,\n",
      "30: 1.0,\n",
      "32: 1.0,\n",
      "34: 1.0,\n",
      "36: 1.0,\n",
      "38: 1.0,\n",
      "40: 1.0,\n",
      "42: 1.0,\n",
      "44: 1.0,\n",
      "46: 1.0,\n",
      "48: 1.0,\n"
     ]
    }
   ],
   "source": [
    "import Data.data_provider as dp\n",
    "import numpy as np\n",
    "\n",
    "for nf in np.arange(2, 50, 2).tolist():\n",
    "    # print(\">>>\", nf)\n",
    "    X, y, tp = dp.make_classification_gaussian_with_true_prob(params[\"data_size\"], \n",
    "                                                            nf, \n",
    "                                                            class1_mean_min = params[\"class1_mean_min\"], \n",
    "                                                            class1_mean_max = params[\"class1_mean_max\"],\n",
    "                                                            class2_mean_min = params[\"class2_mean_min\"], \n",
    "                                                            class2_mean_max = params[\"class2_mean_max\"], \n",
    "                                                            class1_cov_min = params[\"class1_cov_min\"], \n",
    "                                                            class1_cov_max = params[\"class1_cov_max\"],\n",
    "                                                            class2_cov_min = params[\"class2_cov_min\"], \n",
    "                                                            class2_cov_max = params[\"class2_cov_max\"], \n",
    "                                                            bais_accuracy=0.80)\n"
   ]
  }
 ],
 "metadata": {
  "kernelspec": {
   "display_name": "RFcalib",
   "language": "python",
   "name": "python3"
  },
  "language_info": {
   "codemirror_mode": {
    "name": "ipython",
    "version": 3
   },
   "file_extension": ".py",
   "mimetype": "text/x-python",
   "name": "python",
   "nbconvert_exporter": "python",
   "pygments_lexer": "ipython3",
   "version": "3.11.1"
  },
  "orig_nbformat": 4
 },
 "nbformat": 4,
 "nbformat_minor": 2
}
