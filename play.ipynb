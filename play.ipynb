{
 "cells": [
  {
   "cell_type": "code",
   "execution_count": 1,
   "metadata": {},
   "outputs": [],
   "source": [
    "params = {\n",
    "    # exp\n",
    "    \"seed\": 0,\n",
    "    \n",
    "    \"data_size\": 1000,\n",
    "    \"n_features\": 2,\n",
    "\n",
    "    \"class1_mean_min\":0, \n",
    "    \"class1_mean_max\":1,\n",
    "    \"class2_mean_min\":2, \n",
    "    \"class2_mean_max\":3, \n",
    "\n",
    "    \"class1_cov_min\":1, \n",
    "    \"class1_cov_max\":2,\n",
    "    \"class2_cov_min\":1, \n",
    "    \"class2_cov_max\":2.5, \n",
    "    \n",
    "}\n"
   ]
  },
  {
   "cell_type": "code",
   "execution_count": 2,
   "metadata": {},
   "outputs": [
    {
     "name": "stdout",
     "output_type": "stream",
     "text": [
      "2: 0.0 ACC 0.78\n",
      "4: 0.25 ACC 0.79\n",
      "6: 0.47 ACC 0.775\n",
      "8: 0.56 ACC 0.795\n",
      "10: 0.7 ACC 0.765\n",
      "12: 0.72 ACC 0.76\n",
      "14: 0.74 ACC 0.765\n",
      "16: 0.78 ACC 0.755\n",
      "18: 0.79 ACC 0.785\n",
      "20: 0.88 ACC 0.795\n",
      "22: 0.86 ACC 0.765\n",
      "24: 0.87 ACC 0.785\n",
      "26: 0.93 ACC 0.79\n",
      "28: 0.86 ACC 0.78\n",
      "30: 0.95 ACC 0.795\n",
      "32: 0.94 ACC 0.77\n",
      "34: 0.94 ACC 0.76\n",
      "36: 0.967 ACC 0.795\n",
      "38: 1 ACC 0.765\n",
      "40: 1 ACC 0.79\n",
      "42: 1 ACC 0.78\n",
      "44: 1 ACC 0.79\n",
      "46: 1 ACC 0.77\n",
      "48: 1 ACC 0.785\n"
     ]
    }
   ],
   "source": [
    "import Data.data_provider as dp\n",
    "import numpy as np\n",
    "\n",
    "for nf in np.arange(2, 50, 2).tolist():\n",
    "    # print(\">>>\", nf)\n",
    "    X, y, tp = dp.make_classification_gaussian_with_true_prob(params[\"data_size\"], \n",
    "                                                            nf, \n",
    "                                                            class1_mean_min = params[\"class1_mean_min\"], \n",
    "                                                            class1_mean_max = params[\"class1_mean_max\"],\n",
    "                                                            class2_mean_min = params[\"class2_mean_min\"], \n",
    "                                                            class2_mean_max = params[\"class2_mean_max\"], \n",
    "                                                            class1_cov_min = params[\"class1_cov_min\"], \n",
    "                                                            class1_cov_max = params[\"class1_cov_max\"],\n",
    "                                                            class2_cov_min = params[\"class2_cov_min\"], \n",
    "                                                            class2_cov_max = params[\"class2_cov_max\"], \n",
    "                                                            bais_accuracy=0.8)\n"
   ]
  }
 ],
 "metadata": {
  "kernelspec": {
   "display_name": "RFcalib",
   "language": "python",
   "name": "python3"
  },
  "language_info": {
   "codemirror_mode": {
    "name": "ipython",
    "version": 3
   },
   "file_extension": ".py",
   "mimetype": "text/x-python",
   "name": "python",
   "nbconvert_exporter": "python",
   "pygments_lexer": "ipython3",
   "version": "3.11.1"
  },
  "orig_nbformat": 4
 },
 "nbformat": 4,
 "nbformat_minor": 2
}
