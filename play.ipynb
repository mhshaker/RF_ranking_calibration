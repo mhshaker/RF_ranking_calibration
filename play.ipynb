{
 "cells": [
  {
   "cell_type": "code",
   "execution_count": 1,
   "metadata": {},
   "outputs": [
    {
     "name": "stdout",
     "output_type": "stream",
     "text": [
      "The percentage of overlap between the two Gaussian distributions is: 100.00%\n"
     ]
    }
   ],
   "source": [
    "import numpy as np\n",
    "from scipy.stats import norm\n",
    "from scipy.integrate import quad\n",
    "\n",
    "def gaussian_overlap(mu1, sigma1, mu2, sigma2):\n",
    "    # Define the PDFs of the two Gaussian distributions\n",
    "    def pdf1(x):\n",
    "        return norm.pdf(x, mu1, sigma1)\n",
    "    \n",
    "    def pdf2(x):\n",
    "        return norm.pdf(x, mu2, sigma2)\n",
    "    \n",
    "    # Define the integrand as the minimum of the two PDFs\n",
    "    def integrand(x):\n",
    "        return np.minimum(pdf1(x), pdf2(x))\n",
    "    \n",
    "    # Calculate the overlap by integrating the minimum PDF\n",
    "    overlap, _ = quad(integrand, -np.inf, np.inf)\n",
    "    \n",
    "    # Convert to percentage\n",
    "    overlap_percentage = overlap * 100\n",
    "    \n",
    "    return overlap_percentage\n",
    "\n",
    "# Example usage:\n",
    "mu1, sigma1 = 0, 1  # Mean and standard deviation for the first Gaussian\n",
    "mu2, sigma2 = 0, 1  # Mean and standard deviation for the second Gaussian\n",
    "\n",
    "overlap_percentage = gaussian_overlap(mu1, sigma1, mu2, sigma2)\n",
    "print(f\"The percentage of overlap between the two Gaussian distributions is: {overlap_percentage:.2f}%\")\n"
   ]
  }
 ],
 "metadata": {
  "kernelspec": {
   "display_name": "RFcalib",
   "language": "python",
   "name": "python3"
  },
  "language_info": {
   "codemirror_mode": {
    "name": "ipython",
    "version": 3
   },
   "file_extension": ".py",
   "mimetype": "text/x-python",
   "name": "python",
   "nbconvert_exporter": "python",
   "pygments_lexer": "ipython3",
   "version": "3.11.1"
  },
  "orig_nbformat": 4
 },
 "nbformat": 4,
 "nbformat_minor": 2
}
