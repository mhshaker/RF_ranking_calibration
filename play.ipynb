{
 "cells": [
  {
   "cell_type": "code",
   "execution_count": 1,
   "metadata": {},
   "outputs": [],
   "source": [
    "from sklearn.metrics import brier_score_loss\n",
    "from sklearn.metrics import log_loss\n",
    "import numpy as np\n",
    "import matplotlib.pyplot as plt\n"
   ]
  },
  {
   "cell_type": "code",
   "execution_count": 2,
   "metadata": {},
   "outputs": [],
   "source": [
    "# data_size = 100\n",
    "# runs = 1000000\n",
    "\n",
    "# lables = np.tile([0, 1], int(data_size/2))\n",
    "# predictions = np.linspace(0, 1, data_size) "
   ]
  },
  {
   "cell_type": "code",
   "execution_count": 3,
   "metadata": {},
   "outputs": [],
   "source": [
    "# b_baseline = brier_score_loss(lables, predictions)\n",
    "# l_baseline = log_loss(lables, predictions)"
   ]
  },
  {
   "cell_type": "code",
   "execution_count": 4,
   "metadata": {},
   "outputs": [],
   "source": [
    "\n",
    "# for run in range(runs):\n",
    "#     random_array = 2 * np.random.rand(data_size) - 1\n",
    "#     sum_array = predictions + random_array\n",
    "#     clipped_array = np.clip(sum_array, 0, 1)\n",
    "#     b_r = brier_score_loss(lables, clipped_array)\n",
    "#     l_r = log_loss(lables, clipped_array)\n",
    "#     if b_r > b_baseline and l_r < l_baseline:\n",
    "#         print(f\"Yes {run}\")\n"
   ]
  },
  {
   "cell_type": "code",
   "execution_count": 5,
   "metadata": {},
   "outputs": [
    {
     "name": "stdout",
     "output_type": "stream",
     "text": [
      "Yes 20\n",
      "Yes 35\n"
     ]
    }
   ],
   "source": [
    "for file in range(50):\n",
    "    label_l0 = np.load(f'L0T/{file}_lable.npy')\n",
    "    label_l1 = np.load(f'L1T/{file}_lable.npy')\n",
    "\n",
    "    prob_l0 = np.load(f'L0T/{file}_prob.npy')\n",
    "    prob_l1 = np.load(f'L1T/{file}_prob.npy')\n",
    "\n",
    "    b_l0 = brier_score_loss(label_l0, prob_l0[:,1])\n",
    "    b_l1 = brier_score_loss(label_l1, prob_l1[:,1])\n",
    "    b_test = 0\n",
    "    if b_l1 > b_l0:\n",
    "        b_test = 1\n",
    "\n",
    "    l_l0 = log_loss(label_l0, prob_l0[:,1])\n",
    "    l_l1 = log_loss(label_l1, prob_l1[:,1])\n",
    "    l_test = 0\n",
    "    if l_l1 < l_l0:\n",
    "        l_test = 1\n",
    "\n",
    "    if l_test == 1 and b_test == 1:\n",
    "        print(f\"Yes {file}\")\n"
   ]
  },
  {
   "cell_type": "code",
   "execution_count": 6,
   "metadata": {},
   "outputs": [
    {
     "name": "stdout",
     "output_type": "stream",
     "text": [
      "b_l0 0.062261111111111114\n",
      "b_l1 0.06689759212486975\n",
      "l_l0 1.1500053180948266\n",
      "l_l1 0.29181767549636917\n"
     ]
    }
   ],
   "source": [
    "file = 20\n",
    "\n",
    "label_l0 = np.load(f'L0T/{file}_lable.npy')\n",
    "label_l1 = np.load(f'L1T/{file}_lable.npy')\n",
    "\n",
    "prob_l0 = np.load(f'L0T/{file}_prob.npy')\n",
    "prob_l1 = np.load(f'L1T/{file}_prob.npy')\n",
    "\n",
    "b_l0 = brier_score_loss(label_l0, prob_l0[:,1])\n",
    "b_l1 = brier_score_loss(label_l1, prob_l1[:,1])\n",
    "if b_l1 > b_l0:\n",
    "    print(f\"b_l0 {b_l0}\")\n",
    "    print(f\"b_l1 {b_l1}\")\n",
    "\n",
    "l_l0 = log_loss(label_l0, prob_l0[:,1])\n",
    "l_l1 = log_loss(label_l1, prob_l1[:,1])\n",
    "if l_l1 < l_l0:\n",
    "    print(f\"l_l0 {l_l0}\")\n",
    "    print(f\"l_l1 {l_l1}\")"
   ]
  },
  {
   "cell_type": "code",
   "execution_count": 7,
   "metadata": {},
   "outputs": [
    {
     "name": "stdout",
     "output_type": "stream",
     "text": [
      "l_l0 12.074579150323638\n",
      "l_l1 1.504145825165397\n"
     ]
    }
   ],
   "source": [
    "lb = 16\n",
    "ub = 19\n",
    "\n",
    "\n",
    "label_l0_select = label_l0[lb:ub].copy()\n",
    "label_l1_select = label_l1[lb:ub].copy()\n",
    "\n",
    "prob_l0_select = prob_l0[lb:ub].copy()\n",
    "prob_l1_select = prob_l1[lb:ub].copy()\n",
    "\n",
    "b_l0 = brier_score_loss(label_l0_select, prob_l0_select[:,1])\n",
    "b_l1 = brier_score_loss(label_l1_select, prob_l1_select[:,1])\n",
    "\n",
    "b_test = 0\n",
    "if b_l1 > b_l0:\n",
    "    print(f\"b_l0 {b_l0}\")\n",
    "    print(f\"b_l1 {b_l1}\")\n",
    "    b_test = 1\n",
    "\n",
    "l_l0 = log_loss(label_l0_select, prob_l0_select[:,1])\n",
    "l_l1 = log_loss(label_l1_select, prob_l1_select[:,1])\n",
    "\n",
    "l_test = 0\n",
    "if l_l1 < l_l0:\n",
    "    print(f\"l_l0 {l_l0}\")\n",
    "    print(f\"l_l1 {l_l1}\")\n",
    "    l_test = 1\n",
    "\n",
    "if l_test == 1 and b_test == 1:\n",
    "    print(f\"Yes\")\n"
   ]
  }
 ],
 "metadata": {
  "kernelspec": {
   "display_name": "RFcalib",
   "language": "python",
   "name": "python3"
  },
  "language_info": {
   "codemirror_mode": {
    "name": "ipython",
    "version": 3
   },
   "file_extension": ".py",
   "mimetype": "text/x-python",
   "name": "python",
   "nbconvert_exporter": "python",
   "pygments_lexer": "ipython3",
   "version": "3.11.1"
  },
  "orig_nbformat": 4
 },
 "nbformat": 4,
 "nbformat_minor": 2
}
