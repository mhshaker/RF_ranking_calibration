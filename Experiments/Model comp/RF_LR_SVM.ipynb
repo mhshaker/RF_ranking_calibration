{
 "cells": [
  {
   "cell_type": "code",
   "execution_count": null,
   "metadata": {},
   "outputs": [],
   "source": [
    "# imports\n",
    "import sys\n",
    "import pandas as pd\n",
    "sys.path.append('../../') # to access the files in higher directories\n",
    "sys.path.append('../') # to access the files in higher directories\n",
    "pd.set_option('display.max_rows', 500)\n",
    "pd.set_option('display.max_columns', 500)\n",
    "pd.set_option('display.width', 1000)\n",
    "\n",
    "import core_exp as cx\n",
    "import core_calib as cal\n",
    "import core_tools as ct"
   ]
  },
  {
   "cell_type": "code",
   "execution_count": null,
   "metadata": {},
   "outputs": [],
   "source": [
    "params = {\n",
    "    # exp\n",
    "    \"seed\": 0,\n",
    "    \"runs\": 2,\n",
    "    \"path\": \"../../\",\n",
    "    \"exp_name\": ct.generate_readable_short_id(\"mixture_gaussian\"),\n",
    "    \"split\": \"CV\", #CV, random_split\n",
    "\n",
    "    \"cv_folds\": 10,\n",
    "    \"plot\": True,\n",
    "    \"calib_methods\": [\"RF\", \"RF_opt\", \"LR\", \"SVM\"],\n",
    "    \"metrics\": [\"acc\", \"tce\", \"logloss\", \"brier\", \"ece\", \"auc\"],\n",
    "    \n",
    "    #data\n",
    "    \"data_name\": \"synthetic\",\n",
    "    \"plot_data\": True,\n",
    "    \"data_size\": 1000,\n",
    "    \"n_features\": 2,\n",
    "\n",
    "    \"class1_mean_min\":0, \n",
    "    \"class1_mean_max\":1,\n",
    "    \"class2_mean_min\":1, \n",
    "    \"class2_mean_max\":3, \n",
    "\n",
    "    \"class1_cov_min\":4, \n",
    "    \"class1_cov_max\":5,\n",
    "    \"class2_cov_min\":1, \n",
    "    \"class2_cov_max\":2, \n",
    "\n",
    "\n",
    "    # calib param\n",
    "    \"bin_strategy\": \"uniform\",\n",
    "    \"ece_bins\": 20,\n",
    "    \"boot_size\": 5000,\n",
    "    \"boot_count\": 40,\n",
    "\n",
    "    \"opt_cv\":5, \n",
    "    \"opt_n_iter\":40,\n",
    "    \"opt_top_K\": 5,\n",
    "    \"search_space\": {\n",
    "                    \"n_estimators\": [100],\n",
    "                    \"max_depth\": [4],\n",
    "                    \"criterion\": [\"gini\", \"entropy\"],\n",
    "                    \"max_features\": [\"sqrt\", \"log2\"],\n",
    "                    \"min_samples_split\": [2,3,4,5],\n",
    "                    \"min_samples_leaf\": [1,2,3],\n",
    "                    },\n",
    "\n",
    "    # RF hyper opt\n",
    "    \"oob\": False,\n",
    "    \"laplace\": 0, # if set to 1, OOB must be false\n",
    "\n",
    "    \"hyper_opt\": \"Manual\",\n",
    "    \"depth\": 4,\n",
    "\n",
    "    \"exp_key\": \"n_estimators\",\n",
    "    \"exp_values\":  [100] # 20,50,100,200,500 \n",
    "}\n",
    "\n",
    "ct.save_params(params)"
   ]
  },
  {
   "cell_type": "code",
   "execution_count": null,
   "metadata": {},
   "outputs": [],
   "source": [
    "calib_results_dict, data_list = cx.run_exp(params[\"exp_key\"], params[\"exp_values\"], params)\n",
    "tables = cal.mean_and_ranking_table(calib_results_dict, \n",
    "                                    params[\"metrics\"], \n",
    "                                    params[\"calib_methods\"], \n",
    "                                    data_list, \n",
    "                                    mean_and_rank=True, \n",
    "                                    std=True)"
   ]
  }
 ],
 "metadata": {
  "kernelspec": {
   "display_name": "RFcalib",
   "language": "python",
   "name": "python3"
  },
  "language_info": {
   "codemirror_mode": {
    "name": "ipython",
    "version": 3
   },
   "file_extension": ".py",
   "mimetype": "text/x-python",
   "name": "python",
   "nbconvert_exporter": "python",
   "pygments_lexer": "ipython3",
   "version": "3.11.1"
  },
  "orig_nbformat": 4
 },
 "nbformat": 4,
 "nbformat_minor": 2
}
