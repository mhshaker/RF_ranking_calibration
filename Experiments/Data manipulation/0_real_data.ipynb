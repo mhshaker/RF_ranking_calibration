{
 "cells": [
  {
   "cell_type": "code",
   "execution_count": null,
   "metadata": {},
   "outputs": [],
   "source": [
    "# How changing the dataset sample size effects the calibration methods\n",
    "# Fix training dataset size and change the calib set samples - best method is one that gets max calib with least data\n",
    "\n",
    "# imports\n",
    "import sys\n",
    "import pandas as pd\n",
    "sys.path.append('../../') # to access the files in higher directories\n",
    "sys.path.append('../') # to access the files in higher directories\n",
    "pd.set_option('display.max_rows', 500)\n",
    "pd.set_option('display.max_columns', 500)\n",
    "pd.set_option('display.width', 1000)\n",
    "\n",
    "import core_exp as cx\n",
    "import core_calib as cal\n",
    "import core_tools as ct"
   ]
  },
  {
   "cell_type": "code",
   "execution_count": null,
   "metadata": {},
   "outputs": [],
   "source": [
    "params = {\n",
    "    # exp\n",
    "    \"seed\": 0,\n",
    "    \"runs\": 5,\n",
    "    \"exp_name\": ct.generate_readable_short_id(), #\"main_run5_cv5_21data_100trees_40opt_fast\",\n",
    "    \"path\": \"../../\",\n",
    "    \"split\": \"CV\", #CV, random_split\n",
    "    \"cv_folds\": 5,\n",
    "    \"plot\": False,\n",
    "    \"calib_methods\": [\"RF_d\", \"RF_opt\",\n",
    "                      \"Platt\", \"ISO\", \"Beta\", \"CRF\", \"VA\",\n",
    "                      \"tlr\", \"Rank\", #\"Elkan\"\n",
    "                      # \"RF_ens_k\", \"RF_ens_r\", \n",
    "                      \"RF_large\",\n",
    "                      ],\n",
    "    \n",
    "    \"metrics\": [\"acc\", \"brier\", \"ece\", \"logloss\"],\n",
    "\n",
    "    # calib param\n",
    "    \"bin_strategy\": \"uniform\",\n",
    "    \"ece_bins\": 20,\n",
    "    \"boot_size\": 1000, \n",
    "    \"boot_count\": 5,\n",
    "\n",
    "    # RF hyper opt\n",
    "    \"hyper_opt\": True,\n",
    "    \"opt_cv\":5, \n",
    "    \"opt_n_iter\":50,\n",
    "    \"opt_top_K\": 5,\n",
    "    \"search_space\": {\n",
    "                    \"n_estimators\": [100],\n",
    "                    \"max_depth\": [2,3,4,5,6,7,8,10,15,20,30,40,50,60,100],\n",
    "                    \"criterion\": [\"gini\", \"entropy\"],\n",
    "                    \"max_features\": [\"sqrt\", \"log2\"],\n",
    "                    \"min_samples_split\": [2,3,4,5],\n",
    "                    \"min_samples_leaf\": [1,2,3],\n",
    "                    \"oob_score\": [True]\n",
    "                    },\n",
    "    \n",
    "    \"n_estimators\": 100,\n",
    "    \"oob\": True,\n",
    "\n",
    "    \"exp_key\": \"data_name\",\n",
    "    \"exp_values\": [\n",
    "                  \"vertebral\", \n",
    "                  \"wilt\",\n",
    "                  \"parkinsons\", \n",
    "                  \"heart\",\n",
    "                  \"wdbc\",\n",
    "                  \"bank\", \n",
    "                  \"ionosphere\", \n",
    "                  \"HRCompetencyScores\",\n",
    "                  \"spambase\", \n",
    "                  \"QSAR\", \n",
    "                  \"diabetes\", \n",
    "                  \"breast\", \n",
    "                  \"SPF\",\n",
    "                  \"hillvalley\",\n",
    "                  \"pc4\",\n",
    "                  \"scene\",\n",
    "                  \"Sonar_Mine_Rock_Data\",\n",
    "                  \"Customer_Churn\",\n",
    "                  \"jm1\",\n",
    "                  \"eeg\",\n",
    "                  # \"madelon\",\n",
    "                  # \"phoneme\",\n",
    "                  # \"nomao\",\n",
    "                  ]\n",
    "}\n",
    "\n",
    "ct.save_params(params)"
   ]
  },
  {
   "cell_type": "code",
   "execution_count": null,
   "metadata": {},
   "outputs": [],
   "source": [
    "calib_results_dict, data_list = cx.run_exp(params[\"exp_key\"], params[\"exp_values\"], params)\n",
    "ct.save_results(calib_results_dict, params['exp_name'])"
   ]
  },
  {
   "cell_type": "code",
   "execution_count": null,
   "metadata": {},
   "outputs": [],
   "source": [
    "tables = cal.mean_and_ranking_table(calib_results_dict, \n",
    "                                    params[\"metrics\"], \n",
    "                                    params[\"calib_methods\"], \n",
    "                                    data_list, \n",
    "                                    mean_and_rank=True, \n",
    "                                    std=True)\n",
    "ct.save_metrics_to_csv(tables, params[\"metrics\"], params['exp_name'])"
   ]
  },
  {
   "cell_type": "code",
   "execution_count": null,
   "metadata": {},
   "outputs": [],
   "source": [
    "tables[\"brier\"].round(4)\n"
   ]
  },
  {
   "cell_type": "code",
   "execution_count": null,
   "metadata": {},
   "outputs": [],
   "source": [
    "cm = [\n",
    "    \"RF_d\", \"RF_opt\",\n",
    "    \"Platt\", \"ISO\", \"Beta\", \"CRF\", \"VA\",\n",
    "    \"tlr\", \"Rank\", \n",
    "    \"RF_large\"\n",
    "]\n",
    "\n",
    "ct.res_statistics(calib_results_dict, params, cm)"
   ]
  }
 ],
 "metadata": {
  "kernelspec": {
   "display_name": "Python 3",
   "language": "python",
   "name": "python3"
  },
  "language_info": {
   "codemirror_mode": {
    "name": "ipython",
    "version": 3
   },
   "file_extension": ".py",
   "mimetype": "text/x-python",
   "name": "python",
   "nbconvert_exporter": "python",
   "pygments_lexer": "ipython3",
   "version": "3.11.1"
  },
  "orig_nbformat": 4,
  "vscode": {
   "interpreter": {
    "hash": "aee8b7b246df8f9039afb4144a1f6fd8d2ca17a180786b69acc140d282b71a49"
   }
  }
 },
 "nbformat": 4,
 "nbformat_minor": 2
}
