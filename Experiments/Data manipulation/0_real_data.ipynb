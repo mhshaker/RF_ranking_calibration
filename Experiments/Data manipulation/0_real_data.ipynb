{
 "cells": [
  {
   "cell_type": "code",
   "execution_count": 1,
   "metadata": {},
   "outputs": [],
   "source": [
    "# How changing the dataset sample size effects the calibration methods\n",
    "# Fix training dataset size and change the calib set samples - best method is one that gets max calib with least data\n",
    "\n",
    "# imports\n",
    "import sys\n",
    "import numpy as np\n",
    "import pandas as pd\n",
    "sys.path.append('../../') # to access the files in higher directories\n",
    "sys.path.append('../') # to access the files in higher directories\n",
    "pd.set_option('display.max_rows', 500)\n",
    "pd.set_option('display.max_columns', 500)\n",
    "pd.set_option('display.width', 1000)\n",
    "\n",
    "import core_exp as cx\n",
    "import core_calib as cal\n",
    "import core_tools as ct"
   ]
  },
  {
   "cell_type": "code",
   "execution_count": 2,
   "metadata": {},
   "outputs": [],
   "source": [
    "params = {\n",
    "    # exp\n",
    "    \"seed\": 0,\n",
    "    \"runs\": 2,\n",
    "    \"exp_name\": ct.generate_readable_short_id(\"rf_large_fix_tree\"), #\"main_run5_cv5_21data_100trees_40opt_fast\",\n",
    "    \"path\": \"../../\",\n",
    "    \"split\": \"CV\", #CV, random_split\n",
    "    \"cv_folds\": 5,\n",
    "    \"plot\": False,\n",
    "    \"calib_methods\": [\"RF_d\", \"RF_opt\",\n",
    "                    #   \"Platt\", \"ISO\", \"Beta\", \"CRF\", \"VA\",\n",
    "                    #   \"tlr\", \"Rank\", #\"Elkan\"\n",
    "                      # \"RF_ens_k\", \"RF_ens_r\", \n",
    "                      \"RF_large\",\n",
    "                      ],\n",
    "    \n",
    "    \"metrics\": [\"acc\", \"brier\", \"ece\", \"logloss\"],\n",
    "\n",
    "    # calib param\n",
    "    \"bin_strategy\": \"uniform\",\n",
    "    \"ece_bins\": 20,\n",
    "    \"boot_size\": 1000, \n",
    "    \"boot_count\": 5,\n",
    "\n",
    "    # RF hyper opt\n",
    "    \"hyper_opt\": True,\n",
    "    \"opt_cv\":5, \n",
    "    \"opt_n_iter\":20,\n",
    "    \"opt_top_K\": 5,\n",
    "    \"search_space\": {\n",
    "                    \"n_estimators\": [30],\n",
    "                    \"max_depth\": np.arange(5, 100).tolist(),\n",
    "                    \"criterion\": [\"gini\", \"entropy\"],\n",
    "                    \"max_features\": ['sqrt', 'log2', None],\n",
    "                    \"min_samples_split\": np.arange(2, 11).tolist(),\n",
    "                    \"min_samples_leaf\": np.arange(1, 11).tolist(),\n",
    "                    # 'bootstrap': [True, False],                # Whether bootstrap samples are used\n",
    "                    'class_weight': [None, 'balanced', 'balanced_subsample'],  # Weight for each class\n",
    "                    \"oob_score\": [False]\n",
    "                    },\n",
    "    \n",
    "    \"oob\": False,\n",
    "\n",
    "    \"exp_key\": \"data_name\",\n",
    "    \"exp_values\": [\n",
    "                  \"vertebral\", \n",
    "                  \"wilt\",\n",
    "                  \"parkinsons\", \n",
    "                  \"heart\",\n",
    "                  \"wdbc\",\n",
    "                #   \"bank\", \n",
    "                #   \"ionosphere\", \n",
    "                #   \"HRCompetencyScores\",\n",
    "                #   \"spambase\", \n",
    "                #   \"QSAR\", \n",
    "                #   \"diabetes\", \n",
    "                #   \"breast\", \n",
    "                #   \"SPF\",\n",
    "                #   \"hillvalley\",\n",
    "                #   \"pc4\",\n",
    "                #   \"scene\",\n",
    "                #   \"Sonar_Mine_Rock_Data\",\n",
    "                #   \"Customer_Churn\",\n",
    "                #   \"jm1\",\n",
    "                #   \"eeg\",\n",
    "                  # \"madelon\",\n",
    "                  # \"phoneme\",\n",
    "                  # \"nomao\",\n",
    "                  ]\n",
    "}\n",
    "\n",
    "ct.save_params(params)"
   ]
  },
  {
   "cell_type": "code",
   "execution_count": 3,
   "metadata": {},
   "outputs": [
    {
     "name": "stdout",
     "output_type": "stream",
     "text": [
      "exp_param vertebral done\n",
      "exp_param wilt done\n",
      "exp_param parkinsons done\n",
      "exp_param heart done\n",
      "exp_param wdbc done\n"
     ]
    }
   ],
   "source": [
    "calib_results_dict, data_list = cx.run_exp(params[\"exp_key\"], params[\"exp_values\"], params)\n",
    "ct.save_results(calib_results_dict, params['exp_name'])"
   ]
  },
  {
   "cell_type": "code",
   "execution_count": 4,
   "metadata": {},
   "outputs": [],
   "source": [
    "tables = cal.mean_and_ranking_table(calib_results_dict, \n",
    "                                    params[\"metrics\"], \n",
    "                                    params[\"calib_methods\"], \n",
    "                                    data_list, \n",
    "                                    mean_and_rank=True, \n",
    "                                    std=True)\n",
    "ct.save_metrics_to_csv(tables, params[\"metrics\"], params['exp_name'])"
   ]
  },
  {
   "cell_type": "code",
   "execution_count": 5,
   "metadata": {},
   "outputs": [
    {
     "data": {
      "text/html": [
       "<div>\n",
       "<style scoped>\n",
       "    .dataframe tbody tr th:only-of-type {\n",
       "        vertical-align: middle;\n",
       "    }\n",
       "\n",
       "    .dataframe tbody tr th {\n",
       "        vertical-align: top;\n",
       "    }\n",
       "\n",
       "    .dataframe thead th {\n",
       "        text-align: right;\n",
       "    }\n",
       "</style>\n",
       "<table border=\"1\" class=\"dataframe\">\n",
       "  <thead>\n",
       "    <tr style=\"text-align: right;\">\n",
       "      <th></th>\n",
       "      <th>RF_d</th>\n",
       "      <th>RF_opt</th>\n",
       "      <th>RF_large</th>\n",
       "    </tr>\n",
       "    <tr>\n",
       "      <th>Data</th>\n",
       "      <th></th>\n",
       "      <th></th>\n",
       "      <th></th>\n",
       "    </tr>\n",
       "  </thead>\n",
       "  <tbody>\n",
       "    <tr>\n",
       "      <th>vertebral</th>\n",
       "      <td>0.1059</td>\n",
       "      <td>0.1054</td>\n",
       "      <td>0.1078</td>\n",
       "    </tr>\n",
       "    <tr>\n",
       "      <th>wilt</th>\n",
       "      <td>0.0135</td>\n",
       "      <td>0.0129</td>\n",
       "      <td>0.0129</td>\n",
       "    </tr>\n",
       "    <tr>\n",
       "      <th>parkinsons</th>\n",
       "      <td>0.0765</td>\n",
       "      <td>0.0974</td>\n",
       "      <td>0.0892</td>\n",
       "    </tr>\n",
       "    <tr>\n",
       "      <th>heart</th>\n",
       "      <td>0.1303</td>\n",
       "      <td>0.1340</td>\n",
       "      <td>0.1329</td>\n",
       "    </tr>\n",
       "    <tr>\n",
       "      <th>wdbc</th>\n",
       "      <td>0.0312</td>\n",
       "      <td>0.0332</td>\n",
       "      <td>0.0304</td>\n",
       "    </tr>\n",
       "    <tr>\n",
       "      <th>Mean</th>\n",
       "      <td>0.0715</td>\n",
       "      <td>0.0766</td>\n",
       "      <td>0.0747</td>\n",
       "    </tr>\n",
       "    <tr>\n",
       "      <th>Rank</th>\n",
       "      <td>1.8000</td>\n",
       "      <td>2.2000</td>\n",
       "      <td>2.0000</td>\n",
       "    </tr>\n",
       "  </tbody>\n",
       "</table>\n",
       "</div>"
      ],
      "text/plain": [
       "              RF_d  RF_opt  RF_large\n",
       "Data                                \n",
       "vertebral   0.1059  0.1054    0.1078\n",
       "wilt        0.0135  0.0129    0.0129\n",
       "parkinsons  0.0765  0.0974    0.0892\n",
       "heart       0.1303  0.1340    0.1329\n",
       "wdbc        0.0312  0.0332    0.0304\n",
       "Mean        0.0715  0.0766    0.0747\n",
       "Rank        1.8000  2.2000    2.0000"
      ]
     },
     "execution_count": 5,
     "metadata": {},
     "output_type": "execute_result"
    }
   ],
   "source": [
    "tables[\"brier\"].round(4)\n"
   ]
  },
  {
   "cell_type": "code",
   "execution_count": 6,
   "metadata": {},
   "outputs": [
    {
     "name": "stdout",
     "output_type": "stream",
     "text": [
      "metric acc\n",
      "Friedman Test Statistic: 2.2105263157894752\n",
      "P-value: 0.33112373295101094\n",
      "The differences between groups are not significant.\n",
      "metric brier\n",
      "Friedman Test Statistic: 0.4000000000000057\n",
      "P-value: 0.8187307530779795\n",
      "The differences between groups are not significant.\n",
      "metric ece\n",
      "Friedman Test Statistic: 2.8000000000000043\n",
      "P-value: 0.24659696394160596\n",
      "The differences between groups are not significant.\n",
      "metric logloss\n",
      "Friedman Test Statistic: 2.8000000000000043\n",
      "P-value: 0.24659696394160596\n",
      "The differences between groups are not significant.\n"
     ]
    }
   ],
   "source": [
    "cm = [\n",
    "    \"RF_d\", \"RF_opt\",\n",
    "    \"Platt\", \"ISO\", \"Beta\", \"CRF\", \"VA\",\n",
    "    \"tlr\", \"Rank\", \n",
    "    \"RF_large\"\n",
    "]\n",
    "\n",
    "ct.res_statistics(tables, params[\"metrics\"], f\"results/{params['exp_name']}\")"
   ]
  }
 ],
 "metadata": {
  "kernelspec": {
   "display_name": "Python 3",
   "language": "python",
   "name": "python3"
  },
  "language_info": {
   "codemirror_mode": {
    "name": "ipython",
    "version": 3
   },
   "file_extension": ".py",
   "mimetype": "text/x-python",
   "name": "python",
   "nbconvert_exporter": "python",
   "pygments_lexer": "ipython3",
   "version": "3.11.1"
  },
  "orig_nbformat": 4,
  "vscode": {
   "interpreter": {
    "hash": "aee8b7b246df8f9039afb4144a1f6fd8d2ca17a180786b69acc140d282b71a49"
   }
  }
 },
 "nbformat": 4,
 "nbformat_minor": 2
}
