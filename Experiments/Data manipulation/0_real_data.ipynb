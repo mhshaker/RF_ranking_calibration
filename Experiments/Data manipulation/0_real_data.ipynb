{
 "cells": [
  {
   "cell_type": "code",
   "execution_count": 1,
   "metadata": {},
   "outputs": [],
   "source": [
    "# How changing the dataset sample size effects the calibration methods\n",
    "# Fix training dataset size and change the calib set samples - best method is one that gets max calib with least data\n",
    "\n",
    "# imports\n",
    "import sys\n",
    "import numpy as np\n",
    "import pandas as pd\n",
    "sys.path.append('../../') # to access the files in higher directories\n",
    "sys.path.append('../') # to access the files in higher directories\n",
    "pd.set_option('display.max_rows', 500)\n",
    "pd.set_option('display.max_columns', 500)\n",
    "pd.set_option('display.width', 1000)\n",
    "\n",
    "import core_exp as cx\n",
    "import core_calib as cal\n",
    "import core_tools as ct"
   ]
  },
  {
   "cell_type": "code",
   "execution_count": 2,
   "metadata": {},
   "outputs": [],
   "source": [
    "params = {\n",
    "    # exp\n",
    "    \"seed\": 0,\n",
    "    \"runs\": 1,\n",
    "    \"exp_name\": ct.generate_readable_short_id(\"track_time_test\"), #\"main_run5_cv5_21data_100trees_40opt_fast\",\n",
    "    \"path\": \"../../\",\n",
    "    \"split\": \"CV\", #CV, random_split\n",
    "    \"cv_folds\": 5,\n",
    "    \"plot\": False,\n",
    "\n",
    "    # \"calib_methods\": [\"RF_d\", \"RF_opt\", \"RF_large\",\n",
    "    #                   \"Platt\", \"ISO\", \"Beta\", \"CRF\", \"VA\",\n",
    "    #                   \"tlr\", \"Rank\", \"Elkan\",                      \n",
    "    #                   ],\n",
    "\n",
    "    \"calib_methods\": [\"RF_opt\", \"RF_large\",\n",
    "                      \"DT\", \"LR\", \"SVM\", \"NN\", \"GNB\"          \n",
    "                      ],\n",
    "\n",
    "    \"metrics\": [\"acc\", \"brier\", \"ece\", \"logloss\", \"time\"],\n",
    "\n",
    "    # calib param\n",
    "    \"bin_strategy\": \"uniform\",\n",
    "    \"ece_bins\": 20,\n",
    "    \"boot_size\": 1000, \n",
    "    \"boot_count\": 5,\n",
    "\n",
    "    # RF hyper opt\n",
    "    \"hyper_opt\": True,\n",
    "    \"opt_cv\":5, \n",
    "    \"opt_n_iter\":50,\n",
    "    \"opt_top_K\": 5,\n",
    "    \"search_space\": {\n",
    "                    \"n_estimators\": [10],\n",
    "                    \"max_depth\":  np.arange(2, 100).tolist(), # [None, 5, 10, 15, 20, 30, 50], #\n",
    "                    \"criterion\": [\"gini\", \"entropy\"],\n",
    "                    \"max_features\": ['sqrt', 'log2', None],\n",
    "                    \"min_samples_split\": [2, 5, 10],\n",
    "                    \"min_samples_leaf\":  [1, 2, 4],\n",
    "                    # 'bootstrap': [True, False],                # Whether bootstrap samples are used\n",
    "                    'class_weight': [None, 'balanced', 'balanced_subsample'],  # Weight for each class\n",
    "                    \"oob_score\": [False]\n",
    "                    },\n",
    "    \n",
    "    \"oob\": False,\n",
    "    \"laplace\": 0, # if set to 1, OOB must be false\n",
    "\n",
    "    \"exp_key\": \"data_name\",\n",
    "    \"exp_values\": [\n",
    "                  # \"cm1\",\n",
    "                  # \"datatrieve\",\n",
    "                  # \"kc1_class_level_defectiveornot\",\n",
    "                  \"kc1\",\n",
    "                  \"kc2\",\n",
    "                  \"kc3\",\n",
    "                  # \"pc1\",\n",
    "                  # \"spect\",\n",
    "                  # \"spectf\",\n",
    "                  # \"vertebral\", \n",
    "                #   \"wilt\",\n",
    "                #   \"parkinsons\", \n",
    "                #   \"heart\",\n",
    "                #   \"wdbc\",\n",
    "                #   \"bank\", \n",
    "                #   \"ionosphere\", \n",
    "                #   \"HRCompetencyScores\",\n",
    "                #   \"spambase\", \n",
    "                #   \"QSAR\", \n",
    "                #   \"diabetes\", \n",
    "                #   \"breast\", \n",
    "                #   \"SPF\",\n",
    "                #   \"hillvalley\",\n",
    "                #   \"pc4\",\n",
    "                #   \"scene\",\n",
    "                #   \"Sonar_Mine_Rock_Data\",\n",
    "                #   \"Customer_Churn\",\n",
    "                #   \"jm1\",\n",
    "                #   \"eeg\",\n",
    "                #   \"phoneme\",\n",
    "\n",
    "\n",
    "                  # \"madelon\",\n",
    "                  # \"nomao\",\n",
    "                  ]\n",
    "}\n",
    "\n",
    "ct.save_params(params)"
   ]
  },
  {
   "cell_type": "code",
   "execution_count": 3,
   "metadata": {},
   "outputs": [
    {
     "name": "stdout",
     "output_type": "stream",
     "text": [
      "exp_param kc1 done\n",
      "exp_param kc2 done\n",
      "exp_param kc3 done\n"
     ]
    }
   ],
   "source": [
    "calib_results_dict, data_list = cx.run_exp(params[\"exp_key\"], params[\"exp_values\"], params)\n",
    "ct.save_results(calib_results_dict, params['exp_name'])"
   ]
  },
  {
   "cell_type": "code",
   "execution_count": 4,
   "metadata": {},
   "outputs": [],
   "source": [
    "tables = cal.mean_and_ranking_table(calib_results_dict, \n",
    "                                    params[\"metrics\"], \n",
    "                                    params[\"calib_methods\"], \n",
    "                                    data_list, \n",
    "                                    mean_and_rank=True, \n",
    "                                    std=True)\n",
    "ct.save_metrics_to_csv(tables, params[\"metrics\"], params['exp_name'])"
   ]
  },
  {
   "cell_type": "code",
   "execution_count": 8,
   "metadata": {},
   "outputs": [
    {
     "data": {
      "text/html": [
       "<div>\n",
       "<style scoped>\n",
       "    .dataframe tbody tr th:only-of-type {\n",
       "        vertical-align: middle;\n",
       "    }\n",
       "\n",
       "    .dataframe tbody tr th {\n",
       "        vertical-align: top;\n",
       "    }\n",
       "\n",
       "    .dataframe thead th {\n",
       "        text-align: right;\n",
       "    }\n",
       "</style>\n",
       "<table border=\"1\" class=\"dataframe\">\n",
       "  <thead>\n",
       "    <tr style=\"text-align: right;\">\n",
       "      <th></th>\n",
       "      <th>RF_large</th>\n",
       "      <th>DT</th>\n",
       "      <th>GNB</th>\n",
       "    </tr>\n",
       "    <tr>\n",
       "      <th>Data</th>\n",
       "      <th></th>\n",
       "      <th></th>\n",
       "      <th></th>\n",
       "    </tr>\n",
       "  </thead>\n",
       "  <tbody>\n",
       "    <tr>\n",
       "      <th>kc1</th>\n",
       "      <td>0.8563</td>\n",
       "      <td>0.8521</td>\n",
       "      <td>0.8502</td>\n",
       "    </tr>\n",
       "    <tr>\n",
       "      <th>kc2</th>\n",
       "      <td>0.8313</td>\n",
       "      <td>0.8122</td>\n",
       "      <td>0.8161</td>\n",
       "    </tr>\n",
       "    <tr>\n",
       "      <th>kc3</th>\n",
       "      <td>0.8930</td>\n",
       "      <td>0.8997</td>\n",
       "      <td>0.9018</td>\n",
       "    </tr>\n",
       "    <tr>\n",
       "      <th>Mean</th>\n",
       "      <td>0.8602</td>\n",
       "      <td>0.8546</td>\n",
       "      <td>0.8560</td>\n",
       "    </tr>\n",
       "    <tr>\n",
       "      <th>Rank</th>\n",
       "      <td>1.6667</td>\n",
       "      <td>2.3333</td>\n",
       "      <td>2.0000</td>\n",
       "    </tr>\n",
       "  </tbody>\n",
       "</table>\n",
       "</div>"
      ],
      "text/plain": [
       "      RF_large      DT     GNB\n",
       "Data                          \n",
       "kc1     0.8563  0.8521  0.8502\n",
       "kc2     0.8313  0.8122  0.8161\n",
       "kc3     0.8930  0.8997  0.9018\n",
       "Mean    0.8602  0.8546  0.8560\n",
       "Rank    1.6667  2.3333  2.0000"
      ]
     },
     "execution_count": 8,
     "metadata": {},
     "output_type": "execute_result"
    }
   ],
   "source": [
    "tables[\"acc\"].round(4)\n"
   ]
  },
  {
   "cell_type": "code",
   "execution_count": 6,
   "metadata": {},
   "outputs": [
    {
     "name": "stdout",
     "output_type": "stream",
     "text": [
      "metric acc\n",
      "Friedman Test Statistic: 0.6666666666666643\n",
      "P-value: 0.71653131057379\n",
      "The differences between groups are significant.\n",
      "metric brier\n",
      "Friedman Test Statistic: 6.0\n",
      "P-value: 0.04978706836786395\n",
      "The differences between groups are significant.\n",
      "metric ece\n",
      "Friedman Test Statistic: 6.0\n",
      "P-value: 0.04978706836786395\n",
      "The differences between groups are significant.\n",
      "metric logloss\n",
      "Friedman Test Statistic: 0.6666666666666643\n",
      "P-value: 0.71653131057379\n",
      "The differences between groups are significant.\n",
      "metric time\n",
      "Friedman Test Statistic: 6.0\n",
      "P-value: 0.04978706836786395\n",
      "The differences between groups are significant.\n"
     ]
    }
   ],
   "source": [
    "ct.res_statistics(tables, params[\"metrics\"], f\"results/{params['exp_name']}\")"
   ]
  }
 ],
 "metadata": {
  "kernelspec": {
   "display_name": "Python 3",
   "language": "python",
   "name": "python3"
  },
  "language_info": {
   "codemirror_mode": {
    "name": "ipython",
    "version": 3
   },
   "file_extension": ".py",
   "mimetype": "text/x-python",
   "name": "python",
   "nbconvert_exporter": "python",
   "pygments_lexer": "ipython3",
   "version": "3.11.1"
  },
  "orig_nbformat": 4,
  "vscode": {
   "interpreter": {
    "hash": "aee8b7b246df8f9039afb4144a1f6fd8d2ca17a180786b69acc140d282b71a49"
   }
  }
 },
 "nbformat": 4,
 "nbformat_minor": 2
}
