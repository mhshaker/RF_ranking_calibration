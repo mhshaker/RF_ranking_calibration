{
 "cells": [
  {
   "cell_type": "code",
   "execution_count": 1,
   "metadata": {},
   "outputs": [],
   "source": [
    "# Thsi is the code used for the paper results\n",
    "# How changing the dataset sample size effects the calibration methods\n",
    "# Fix training dataset size and change the calib set samples - best method is one that gets max calib with least data\n",
    "\n",
    "# imports\n",
    "import os\n",
    "import sys\n",
    "import numpy as np \n",
    "import pandas as pd\n",
    "sys.path.append('../../') # to access the files in higher directories\n",
    "sys.path.append('../') # to access the files in higher directories\n",
    "pd.set_option('display.max_rows', 500)\n",
    "pd.set_option('display.max_columns', 500)\n",
    "pd.set_option('display.width', 1000)\n",
    "\n",
    "import core_exp as cx\n",
    "import core_calib as cal\n",
    "import core_tools as ct\n",
    "import matplotlib.pyplot as plt\n"
   ]
  },
  {
   "cell_type": "code",
   "execution_count": 2,
   "metadata": {},
   "outputs": [],
   "source": [
    "params = {\n",
    "    # exp\n",
    "    \"seed\": 0,\n",
    "    \"runs\": 10,\n",
    "    \"exp_name\": ct.generate_readable_short_id(\"Paper_v2_feature_size_TCE_KL\"),\n",
    "    \"path\": \"../../\",\n",
    "    \"split\": \"CV\", #CV, random_split\n",
    "    \"cv_folds\": 10,\n",
    "\n",
    "    # \"test_split\": 0.1,\n",
    "    # \"calib_split\": 0.11,\n",
    "    \n",
    "    \"plot\": False,\n",
    "    \"calib_methods\": [\"RF_d\", \"RF_opt\", \"RF_large\",\n",
    "                      \"Platt\", \"ISO\", \"Beta\", \"CRF\", \"VA\",\n",
    "                      \"tlr\", \"Rank\", \"Elkan\",                      \n",
    "                      ],\n",
    "    \n",
    "    \"metrics\": [\"acc\", \"brier\", \"ece\", \"logloss\", \"tce\"],\n",
    "\n",
    "    #data\n",
    "    \"data_name\": \"synthetic\",\n",
    "    \"plot_data\": True,\n",
    "    \"data_size\": 1000,\n",
    "    \"n_features\": 2,\n",
    "\n",
    "    \"class1_mean_min\":0, \n",
    "    \"class1_mean_max\":1,\n",
    "    \"class2_mean_min\":0, \n",
    "    \"class2_mean_max\":1, \n",
    "\n",
    "    \"class1_cov_min\":1, \n",
    "    \"class1_cov_max\":2,\n",
    "    \"class2_cov_min\":1, \n",
    "    \"class2_cov_max\":2, \n",
    "\n",
    "\n",
    "    # calib param\n",
    "    \"bin_strategy\": \"uniform\",\n",
    "    \"ece_bins\": 20,\n",
    "    \"boot_size\": 1000, \n",
    "    \"boot_count\": 5,\n",
    "\n",
    "    # RF hyper opt\n",
    "    \"hyper_opt\": True,\n",
    "    \"opt_cv\":5, \n",
    "    \"opt_n_iter\":50,\n",
    "    \"opt_top_K\": 5,\n",
    "    \"search_space\": {\n",
    "                    \"n_estimators\": [10],\n",
    "                    \"max_depth\": np.arange(2, 10).tolist(),\n",
    "                    \"criterion\": [\"gini\", \"entropy\"],\n",
    "                    \"max_features\": ['sqrt', 'log2', None],\n",
    "                    \"min_samples_split\": np.arange(2, 11).tolist(),\n",
    "                    \"min_samples_leaf\": np.arange(1, 11).tolist(),\n",
    "                    # 'bootstrap': [True, False],                # Whether bootstrap samples are used\n",
    "                    'class_weight': [None, 'balanced', 'balanced_subsample'],  # Weight for each class\n",
    "                    \"oob_score\": [False]\n",
    "                    },\n",
    "    \n",
    "    \"oob\": False,\n",
    "    \"laplace\": 0, # if set to 1, OOB must be false\n",
    "\n",
    "    \"exp_key\": \"n_features\",\n",
    "    \"exp_values\":  np.arange(3, 50, 2).tolist()\n",
    "}\n",
    "\n",
    "ct.save_params(params)"
   ]
  },
  {
   "cell_type": "code",
   "execution_count": 3,
   "metadata": {},
   "outputs": [
    {
     "name": "stdout",
     "output_type": "stream",
     "text": [
      "Success in 3 n_features accuracy 0.745 runs 5179\n",
      "exp_param 3 done\n",
      "Success in 5 n_features accuracy 0.745 runs 180\n",
      "exp_param 5 done\n",
      "exp_param 7 done\n",
      "Success in 9 n_features accuracy 0.745 runs 6\n",
      "exp_param 9 done\n",
      "Success in 11 n_features accuracy 0.745 runs 3\n",
      "exp_param 11 done\n",
      "Success in 13 n_features accuracy 0.745 runs 108\n",
      "exp_param 13 done\n",
      "Success in 15 n_features accuracy 0.745 runs 3\n",
      "exp_param 15 done\n",
      "Success in 17 n_features accuracy 0.745 runs 86\n",
      "exp_param 17 done\n",
      "Success in 19 n_features accuracy 0.745 runs 27\n",
      "exp_param 19 done\n",
      "Success in 21 n_features accuracy 0.745 runs 16\n",
      "exp_param 21 done\n",
      "Success in 23 n_features accuracy 0.745 runs 46\n",
      "exp_param 23 done\n",
      "Success in 25 n_features accuracy 0.745 runs 30\n",
      "exp_param 25 done\n",
      "Success in 27 n_features accuracy 0.745 runs 160\n",
      "exp_param 27 done\n",
      "exp_param 29 done\n",
      "exp_param 31 done\n",
      "Success in 33 n_features accuracy 0.745 runs 79\n",
      "exp_param 33 done\n",
      "Success in 35 n_features accuracy 0.745 runs 24\n",
      "exp_param 35 done\n",
      "exp_param 37 done\n",
      "Success in 39 n_features accuracy 0.745 runs 29\n",
      "exp_param 39 done\n",
      "exp_param 41 done\n",
      "Success in 43 n_features accuracy 0.745 runs 29\n",
      "exp_param 43 done\n",
      "exp_param 45 done\n"
     ]
    },
    {
     "name": "stderr",
     "output_type": "stream",
     "text": [
      "/Users/mhshaker/Documents/PhD/Projects/RF_ranking_calibration/RFcalib/lib/python3.11/site-packages/joblib/externals/loky/process_executor.py:700: UserWarning: A worker stopped while some jobs were given to the executor. This can be caused by a too short worker timeout or by a memory leak.\n",
      "  warnings.warn(\n"
     ]
    },
    {
     "name": "stdout",
     "output_type": "stream",
     "text": [
      "exp_param 47 done\n",
      "exp_param 49 done\n"
     ]
    }
   ],
   "source": [
    "calib_results_dict, data_list = cx.run_exp(params[\"exp_key\"], params[\"exp_values\"], params)\n",
    "ct.save_results(calib_results_dict, params['exp_name'])"
   ]
  },
  {
   "cell_type": "code",
   "execution_count": 4,
   "metadata": {},
   "outputs": [
    {
     "data": {
      "text/plain": [
       "['RF_d',\n",
       " 'RF_opt',\n",
       " 'RF_large',\n",
       " 'Platt',\n",
       " 'ISO',\n",
       " 'Beta',\n",
       " 'CRF',\n",
       " 'VA',\n",
       " 'tlr',\n",
       " 'Rank']"
      ]
     },
     "execution_count": 4,
     "metadata": {},
     "output_type": "execute_result"
    }
   ],
   "source": [
    "plot_calib_methods = params[\"calib_methods\"].copy()\n",
    "# plot_calib_methods.remove(\"RF_large\")\n",
    "plot_calib_methods.remove(\"Elkan\")\n",
    "# plot_calib_methods.remove(\"RF\")\n",
    "plot_calib_methods"
   ]
  },
  {
   "cell_type": "code",
   "execution_count": 5,
   "metadata": {},
   "outputs": [],
   "source": [
    "tables = cal.mean_and_ranking_table(calib_results_dict, \n",
    "                                    params[\"metrics\"], \n",
    "                                    params[\"calib_methods\"], \n",
    "                                    data_list, \n",
    "                                    mean_and_rank=False, \n",
    "                                    std=True)\n",
    "\n",
    "path = f\"results/{params['exp_name']}/features\"\n",
    "if not os.path.exists(path):\n",
    "    os.makedirs(path)\n",
    "\n",
    "for metric in params[\"metrics\"]: #\n",
    "    ax = tables[metric][plot_calib_methods].plot()\n",
    "    ax.set_xlabel(params[\"exp_key\"])\n",
    "    ax.set_ylabel(metric)\n",
    "    plt.savefig(f\"{path}/f_{metric}.pdf\", format='pdf', transparent=True)\n",
    "    plt.close() \n"
   ]
  }
 ],
 "metadata": {
  "kernelspec": {
   "display_name": "RFcalib",
   "language": "python",
   "name": "python3"
  },
  "language_info": {
   "codemirror_mode": {
    "name": "ipython",
    "version": 3
   },
   "file_extension": ".py",
   "mimetype": "text/x-python",
   "name": "python",
   "nbconvert_exporter": "python",
   "pygments_lexer": "ipython3",
   "version": "3.11.1"
  },
  "orig_nbformat": 4
 },
 "nbformat": 4,
 "nbformat_minor": 2
}
