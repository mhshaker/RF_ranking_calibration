{
 "cells": [
  {
   "cell_type": "code",
   "execution_count": 1,
   "metadata": {},
   "outputs": [],
   "source": [
    "# How changing the dataset sample size effects the calibration methods\n",
    "# Fix training dataset size and change the calib set samples - best method is one that gets max calib with least data\n",
    "\n",
    "# imports\n",
    "import sys\n",
    "import numpy as np\n",
    "import pandas as pd\n",
    "sys.path.append('../../') # to access the files in higher directories\n",
    "sys.path.append('../') # to access the files in higher directories\n",
    "pd.set_option('display.max_rows', 500)\n",
    "pd.set_option('display.max_columns', 500)\n",
    "pd.set_option('display.width', 1000)\n",
    "\n",
    "import core_exp as cx\n",
    "import core_calib as cal\n",
    "import core_tools as ct\n",
    "\n",
    "import warnings\n",
    "from sklearn.exceptions import DataConversionWarning\n",
    "\n",
    "# Ignore all warnings from scikit-learn\n",
    "warnings.filterwarnings(\"ignore\", module=\"sklearn\")\n",
    "warnings.filterwarnings(\"ignore\", category=DeprecationWarning)\n",
    "warnings.filterwarnings(\"ignore\", category=FutureWarning)\n",
    "warnings.filterwarnings(\"ignore\", category=UserWarning)\n",
    "# Add more categories if needed\n",
    "\n"
   ]
  },
  {
   "cell_type": "code",
   "execution_count": 2,
   "metadata": {},
   "outputs": [],
   "source": [
    "params = {\n",
    "    # exp\n",
    "    \"seed\": 0,\n",
    "    \"runs\": 5,\n",
    "    \"exp_name\": ct.generate_readable_short_id(\"test\"), #\"main_run5_cv5_21data_100trees_40opt_fast\",\n",
    "    \"path\": \"../../\",\n",
    "    \"split\": \"CV\", #CV, random_split\n",
    "    \"cv_folds\": 5,\n",
    "    \"plot\": False,\n",
    "\n",
    "    \"calib_methods\": [\n",
    "                      # \"RF_d\",\n",
    "                      \"RF_opt\", \n",
    "                      # \"RF_large\", \n",
    "                      \"Platt\", \"ISO\", \"Beta\", \"VA\",\n",
    "                      \"CT\", \"PPA\",\n",
    "                      # \"Rank\",\n",
    "                      \"Shaker\"\n",
    "                      ],\n",
    "\n",
    "    \"calib_method_colors\": {\n",
    "        # \"RF_d\": \"blue\", \n",
    "        \"RF_opt\": \"orange\", \n",
    "        # \"RF_large\": \"red\",\n",
    "        \"Platt\": \"Brown\", \n",
    "        \"ISO\": \"purple\", \n",
    "        \"Beta\": \"magenta\", \n",
    "        \"VA\": \"gray\",\n",
    "        \"CT\": \"slategray\",\n",
    "        \"PPA\": \"olive\", \n",
    "        # \"Rank\": \"silver\"     \n",
    "        \"Shaker\": \"gold\",         \n",
    "\n",
    "    },\n",
    "\n",
    "    # \"calib_method_colors\": {\n",
    "    #     \"RF_d\": \"blue\", \n",
    "    #     \"RF_opt\": \"orange\", \n",
    "    #     \"RF_large\": \"red\",\n",
    "    #     \"DNN_ens\": \"olive\", \n",
    "    #     \"XGB\": \"olive\", \n",
    "    #     \"DT\": \"black\", \n",
    "    #     \"LR\": \"black\", \n",
    "    #     \"SVM\": \"black\", \n",
    "    #     \"DNN\": \"black\",\n",
    "    #     \"GNB\": \"black\",\n",
    "    # },\n",
    "\n",
    "    # \"calib_methods\": [\n",
    "    #     \"RF_d\",\n",
    "    #     # \"Shaker\"\n",
    "    #     # \"RF_opt\", \n",
    "    #     # \"RF_large\",\n",
    "    #     # \"DNN_ens\", \n",
    "    #     # \"XGB_opt\",\n",
    "    #     # \"DT_opt\", \n",
    "    #     # \"LR_opt\", \"SVM_opt\", \"DNN_opt\", \n",
    "    #     # \"GNB_opt\"          \n",
    "    #                   ],\n",
    "\n",
    "\n",
    "    \"metrics\": [\"acc\", \"brier\", \"ece\", \"logloss\", \"time\"],\n",
    "\n",
    "    # calib param   \n",
    "    \"bin_strategy\": \"uniform\",\n",
    "    \"ece_bins\": 20,\n",
    "    \"boot_size\": 1000, \n",
    "    \"boot_count\": 5,\n",
    "\n",
    "    # RF hyper opt\n",
    "    \"hyper_opt\": True,\n",
    "    \"opt_cv\":5, \n",
    "    \"opt_n_iter\":50,\n",
    "    \"opt_top_K\": 5,\n",
    "    \"search_space\": {\n",
    "                    \"n_estimators\": [10],\n",
    "                    \"max_depth\":  np.arange(2, 100).tolist() + [None], # [None, 5, 10, 15, 20, 30, 50], #\n",
    "                    \"criterion\": [\"gini\", \"entropy\"],\n",
    "                    \"max_features\": ['sqrt', 'log2', None],\n",
    "                    \"min_samples_split\": np.arange(2, 11).tolist(),\n",
    "                    \"min_samples_leaf\":  np.arange(1, 11).tolist(),\n",
    "                    'class_weight': [None, 'balanced', 'balanced_subsample'],  # Weight for each class\n",
    "                    \"oob_score\": [False],\n",
    "                    \"laplace\": [0,1]\n",
    "                    },\n",
    "    \n",
    "    \"oob\": False,\n",
    "    \"laplace\":1, # if set to 1, OOB must be false\n",
    "    \"curt_v\": np.arange(1, 100).tolist(),\n",
    "\n",
    "    \"exp_key\": \"data_name\",\n",
    "    \"exp_values\": [\n",
    "                  \"cm1\",\n",
    "                  \"datatrieve\",\n",
    "                  # \"kc1_class_level_defectiveornot\",\n",
    "                  # \"kc1\",\n",
    "                  # \"kc2\",\n",
    "                  # \"kc3\",\n",
    "                  # \"pc1\",\n",
    "                  # \"spect\",\n",
    "                  # \"spectf\",\n",
    "                  # \"vertebral\", \n",
    "                  # \"wilt\",\n",
    "                  # \"parkinsons\", \n",
    "                  # \"heart\",\n",
    "                  # \"wdbc\",\n",
    "                  # \"bank\", \n",
    "                  # \"ionosphere\", \n",
    "                #   \"HRCompetencyScores\",\n",
    "                #   \"spambase\", \n",
    "                #   \"QSAR\", \n",
    "                #   \"diabetes\", \n",
    "                #   \"breast\", \n",
    "                #   \"SPF\",\n",
    "                #   \"hillvalley\",\n",
    "                #   \"pc4\",\n",
    "                #   \"scene\",\n",
    "                #   \"Sonar_Mine_Rock_Data\",\n",
    "                #   \"Customer_Churn\",\n",
    "                #   \"jm1\",\n",
    "                #   \"eeg\",\n",
    "                #   \"phoneme\",\n",
    "\n",
    "\n",
    "                  # \"madelon\",\n",
    "                  # \"nomao\",\n",
    "                  ]\n",
    "}\n",
    "\n",
    "ct.save_params(params)"
   ]
  },
  {
   "cell_type": "code",
   "execution_count": 3,
   "metadata": {},
   "outputs": [
    {
     "name": "stdout",
     "output_type": "stream",
     "text": [
      "exp_param cm1 done\n",
      "exp_param datatrieve done\n"
     ]
    }
   ],
   "source": [
    "calib_results_dict, data_list = cx.run_exp(params[\"exp_key\"], params[\"exp_values\"], params)\n",
    "ct.save_results(calib_results_dict, params['exp_name'])"
   ]
  },
  {
   "cell_type": "code",
   "execution_count": 4,
   "metadata": {},
   "outputs": [],
   "source": [
    "tables = cal.mean_and_ranking_table(calib_results_dict, \n",
    "                                    params[\"metrics\"], \n",
    "                                    params[\"calib_methods\"], \n",
    "                                    data_list, \n",
    "                                    mean_and_rank=True, \n",
    "                                    std=True)\n",
    "ct.save_metrics_to_csv(tables, params[\"metrics\"], params['exp_name'])"
   ]
  },
  {
   "cell_type": "code",
   "execution_count": 9,
   "metadata": {},
   "outputs": [
    {
     "data": {
      "application/vnd.microsoft.datawrangler.viewer.v0+json": {
       "columns": [
        {
         "name": "Data",
         "rawType": "object",
         "type": "string"
        },
        {
         "name": "RF_opt",
         "rawType": "float64",
         "type": "float"
        },
        {
         "name": "Platt",
         "rawType": "float64",
         "type": "float"
        },
        {
         "name": "ISO",
         "rawType": "float64",
         "type": "float"
        },
        {
         "name": "Beta",
         "rawType": "float64",
         "type": "float"
        },
        {
         "name": "VA",
         "rawType": "float64",
         "type": "float"
        },
        {
         "name": "CT",
         "rawType": "float64",
         "type": "float"
        },
        {
         "name": "PPA",
         "rawType": "float64",
         "type": "float"
        },
        {
         "name": "Shaker",
         "rawType": "float64",
         "type": "float"
        }
       ],
       "conversionMethod": "pd.DataFrame",
       "ref": "a2fc5531-eca9-4fb5-924c-135569f050ca",
       "rows": [
        [
         "cm1",
         "0.1570705153380784",
         "0.0868557748831327",
         "0.0924388777972846",
         "0.0873110710530579",
         "0.0906492710966253",
         "0.0949082794500561",
         "0.0952647707209262",
         "0.0846635446685903"
        ],
        [
         "datatrieve",
         "0.1537047563198015",
         "0.0803709095459612",
         "0.0801709619029823",
         "0.0825093919733543",
         "0.0907962333932417",
         "0.0828307692307692",
         "0.090371577789767",
         "0.075994891557272"
        ],
        [
         "Mean",
         "0.15538763582893994",
         "0.08361334221454694",
         "0.08630491985013344",
         "0.08491023151320609",
         "0.0907227522449335",
         "0.08886952434041265",
         "0.09281817425534661",
         "0.08032921811293114"
        ],
        [
         "Rank",
         "8.0",
         "2.5",
         "3.5",
         "3.5",
         "5.5",
         "5.5",
         "6.5",
         "1.0"
        ]
       ],
       "shape": {
        "columns": 8,
        "rows": 4
       }
      },
      "text/html": [
       "<div>\n",
       "<style scoped>\n",
       "    .dataframe tbody tr th:only-of-type {\n",
       "        vertical-align: middle;\n",
       "    }\n",
       "\n",
       "    .dataframe tbody tr th {\n",
       "        vertical-align: top;\n",
       "    }\n",
       "\n",
       "    .dataframe thead th {\n",
       "        text-align: right;\n",
       "    }\n",
       "</style>\n",
       "<table border=\"1\" class=\"dataframe\">\n",
       "  <thead>\n",
       "    <tr style=\"text-align: right;\">\n",
       "      <th></th>\n",
       "      <th>RF_opt</th>\n",
       "      <th>Platt</th>\n",
       "      <th>ISO</th>\n",
       "      <th>Beta</th>\n",
       "      <th>VA</th>\n",
       "      <th>CT</th>\n",
       "      <th>PPA</th>\n",
       "      <th>Shaker</th>\n",
       "    </tr>\n",
       "    <tr>\n",
       "      <th>Data</th>\n",
       "      <th></th>\n",
       "      <th></th>\n",
       "      <th></th>\n",
       "      <th></th>\n",
       "      <th></th>\n",
       "      <th></th>\n",
       "      <th></th>\n",
       "      <th></th>\n",
       "    </tr>\n",
       "  </thead>\n",
       "  <tbody>\n",
       "    <tr>\n",
       "      <th>cm1</th>\n",
       "      <td>0.157071</td>\n",
       "      <td>0.086856</td>\n",
       "      <td>0.092439</td>\n",
       "      <td>0.087311</td>\n",
       "      <td>0.090649</td>\n",
       "      <td>0.094908</td>\n",
       "      <td>0.095265</td>\n",
       "      <td>0.084664</td>\n",
       "    </tr>\n",
       "    <tr>\n",
       "      <th>datatrieve</th>\n",
       "      <td>0.153705</td>\n",
       "      <td>0.080371</td>\n",
       "      <td>0.080171</td>\n",
       "      <td>0.082509</td>\n",
       "      <td>0.090796</td>\n",
       "      <td>0.082831</td>\n",
       "      <td>0.090372</td>\n",
       "      <td>0.075995</td>\n",
       "    </tr>\n",
       "    <tr>\n",
       "      <th>Mean</th>\n",
       "      <td>0.155388</td>\n",
       "      <td>0.083613</td>\n",
       "      <td>0.086305</td>\n",
       "      <td>0.084910</td>\n",
       "      <td>0.090723</td>\n",
       "      <td>0.088870</td>\n",
       "      <td>0.092818</td>\n",
       "      <td>0.080329</td>\n",
       "    </tr>\n",
       "    <tr>\n",
       "      <th>Rank</th>\n",
       "      <td>8.000000</td>\n",
       "      <td>2.500000</td>\n",
       "      <td>3.500000</td>\n",
       "      <td>3.500000</td>\n",
       "      <td>5.500000</td>\n",
       "      <td>5.500000</td>\n",
       "      <td>6.500000</td>\n",
       "      <td>1.000000</td>\n",
       "    </tr>\n",
       "  </tbody>\n",
       "</table>\n",
       "</div>"
      ],
      "text/plain": [
       "              RF_opt     Platt       ISO      Beta        VA        CT       PPA    Shaker\n",
       "Data                                                                                      \n",
       "cm1         0.157071  0.086856  0.092439  0.087311  0.090649  0.094908  0.095265  0.084664\n",
       "datatrieve  0.153705  0.080371  0.080171  0.082509  0.090796  0.082831  0.090372  0.075995\n",
       "Mean        0.155388  0.083613  0.086305  0.084910  0.090723  0.088870  0.092818  0.080329\n",
       "Rank        8.000000  2.500000  3.500000  3.500000  5.500000  5.500000  6.500000  1.000000"
      ]
     },
     "execution_count": 9,
     "metadata": {},
     "output_type": "execute_result"
    }
   ],
   "source": [
    "tables[\"brier\"]"
   ]
  },
  {
   "cell_type": "code",
   "execution_count": 5,
   "metadata": {},
   "outputs": [
    {
     "name": "stdout",
     "output_type": "stream",
     "text": [
      "metric acc\n",
      "Friedman Test Statistic: 9.445783132530115\n",
      "P-value: 0.22221445119642474\n",
      "The differences between groups are significant.\n",
      "metric brier\n",
      "Friedman Test Statistic: 12.166666666666657\n",
      "P-value: 0.09520945061443753\n",
      "The differences between groups are significant.\n",
      "metric ece\n",
      "Friedman Test Statistic: 8.833333333333329\n",
      "P-value: 0.26484461657355635\n",
      "The differences between groups are significant.\n",
      "metric logloss\n",
      "Friedman Test Statistic: 13.5\n",
      "P-value: 0.06082339471022093\n",
      "The differences between groups are significant.\n",
      "metric time\n",
      "Friedman Test Statistic: 11.166666666666657\n",
      "P-value: 0.1315125183368965\n",
      "The differences between groups are significant.\n"
     ]
    }
   ],
   "source": [
    "ct.res_statistics(tables, params[\"metrics\"], f\"results/{params['exp_name']}\", colors=params[\"calib_method_colors\"])"
   ]
  },
  {
   "cell_type": "code",
   "execution_count": 6,
   "metadata": {},
   "outputs": [],
   "source": [
    "ct.save_metrics_to_latex(tables, params[\"metrics\"], params['exp_name'])"
   ]
  },
  {
   "cell_type": "code",
   "execution_count": 7,
   "metadata": {},
   "outputs": [
    {
     "data": {
      "text/plain": [
       "dict_keys(['cm1_RF_opt_runtime', 'cm1_Platt_runtime', 'cm1_ISO_runtime', 'cm1_PPA_runtime', 'cm1_Shaker_runtime', 'cm1_VA_runtime', 'cm1_Beta_runtime', 'cm1_CT_runtime', 'cm1_RF_opt_time', 'cm1_Platt_time', 'cm1_ISO_time', 'cm1_Beta_time', 'cm1_VA_time', 'cm1_CT_time', 'cm1_PPA_time', 'cm1_Shaker_time', 'cm1_RF_opt_acc', 'cm1_Platt_acc', 'cm1_ISO_acc', 'cm1_Beta_acc', 'cm1_VA_acc', 'cm1_CT_acc', 'cm1_PPA_acc', 'cm1_Shaker_acc', 'cm1_RF_opt_ece', 'cm1_Platt_ece', 'cm1_ISO_ece', 'cm1_Beta_ece', 'cm1_VA_ece', 'cm1_CT_ece', 'cm1_PPA_ece', 'cm1_Shaker_ece', 'cm1_RF_opt_brier', 'cm1_Platt_brier', 'cm1_ISO_brier', 'cm1_Beta_brier', 'cm1_VA_brier', 'cm1_CT_brier', 'cm1_PPA_brier', 'cm1_Shaker_brier', 'cm1_RF_opt_logloss', 'cm1_Platt_logloss', 'cm1_ISO_logloss', 'cm1_Beta_logloss', 'cm1_VA_logloss', 'cm1_CT_logloss', 'cm1_PPA_logloss', 'cm1_Shaker_logloss', 'datatrieve_RF_opt_runtime', 'datatrieve_Platt_runtime', 'datatrieve_ISO_runtime', 'datatrieve_PPA_runtime', 'datatrieve_Shaker_runtime', 'datatrieve_VA_runtime', 'datatrieve_Beta_runtime', 'datatrieve_CT_runtime', 'datatrieve_RF_opt_time', 'datatrieve_Platt_time', 'datatrieve_ISO_time', 'datatrieve_Beta_time', 'datatrieve_VA_time', 'datatrieve_CT_time', 'datatrieve_PPA_time', 'datatrieve_Shaker_time', 'datatrieve_RF_opt_acc', 'datatrieve_Platt_acc', 'datatrieve_ISO_acc', 'datatrieve_Beta_acc', 'datatrieve_VA_acc', 'datatrieve_CT_acc', 'datatrieve_PPA_acc', 'datatrieve_Shaker_acc', 'datatrieve_RF_opt_ece', 'datatrieve_Platt_ece', 'datatrieve_ISO_ece', 'datatrieve_Beta_ece', 'datatrieve_VA_ece', 'datatrieve_CT_ece', 'datatrieve_PPA_ece', 'datatrieve_Shaker_ece', 'datatrieve_RF_opt_brier', 'datatrieve_Platt_brier', 'datatrieve_ISO_brier', 'datatrieve_Beta_brier', 'datatrieve_VA_brier', 'datatrieve_CT_brier', 'datatrieve_PPA_brier', 'datatrieve_Shaker_brier', 'datatrieve_RF_opt_logloss', 'datatrieve_Platt_logloss', 'datatrieve_ISO_logloss', 'datatrieve_Beta_logloss', 'datatrieve_VA_logloss', 'datatrieve_CT_logloss', 'datatrieve_PPA_logloss', 'datatrieve_Shaker_logloss'])"
      ]
     },
     "execution_count": 7,
     "metadata": {},
     "output_type": "execute_result"
    }
   ],
   "source": [
    "calib_results_dict.keys()"
   ]
  }
 ],
 "metadata": {
  "kernelspec": {
   "display_name": "RFcalib",
   "language": "python",
   "name": "python3"
  },
  "language_info": {
   "codemirror_mode": {
    "name": "ipython",
    "version": 3
   },
   "file_extension": ".py",
   "mimetype": "text/x-python",
   "name": "python",
   "nbconvert_exporter": "python",
   "pygments_lexer": "ipython3",
   "version": "3.11.1"
  },
  "orig_nbformat": 4
 },
 "nbformat": 4,
 "nbformat_minor": 2
}
