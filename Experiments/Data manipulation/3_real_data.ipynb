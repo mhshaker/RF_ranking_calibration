{
 "cells": [
  {
   "cell_type": "code",
   "execution_count": 1,
   "metadata": {},
   "outputs": [],
   "source": [
    "# How changing the dataset sample size effects the calibration methods\n",
    "# Fix training dataset size and change the calib set samples - best method is one that gets max calib with least data\n",
    "\n",
    "# imports\n",
    "import sys\n",
    "import numpy as np\n",
    "import pandas as pd\n",
    "sys.path.append('../../') # to access the files in higher directories\n",
    "sys.path.append('../') # to access the files in higher directories\n",
    "pd.set_option('display.max_rows', 500)\n",
    "pd.set_option('display.max_columns', 500)\n",
    "pd.set_option('display.width', 1000)\n",
    "\n",
    "import core_exp as cx\n",
    "import core_calib as cal\n",
    "import core_tools as ct\n",
    "\n",
    "import warnings\n",
    "from sklearn.exceptions import DataConversionWarning\n",
    "\n",
    "# Ignore all warnings from scikit-learn\n",
    "warnings.filterwarnings(\"ignore\", module=\"sklearn\")\n",
    "warnings.filterwarnings(\"ignore\", category=DeprecationWarning)\n",
    "warnings.filterwarnings(\"ignore\", category=FutureWarning)\n",
    "warnings.filterwarnings(\"ignore\", category=UserWarning)\n",
    "# Add more categories if needed\n",
    "\n"
   ]
  },
  {
   "cell_type": "code",
   "execution_count": 2,
   "metadata": {},
   "outputs": [],
   "source": [
    "params = {\n",
    "    # exp\n",
    "    \"seed\": 0,\n",
    "    \"runs\": 5,\n",
    "    \"exp_name\": ct.generate_readable_short_id(\"Laplace_BS_log_test\"), #\"main_run5_cv5_21data_100trees_40opt_fast\",\n",
    "    \"path\": \"../../\",\n",
    "    \"split\": \"CV\", #CV, random_split\n",
    "    \"cv_folds\": 10,\n",
    "    \"plot\": False,\n",
    "\n",
    "    # \"calib_methods\": [\n",
    "    #                   \"RF_d\",\n",
    "    #                   \"RF_opt\", \n",
    "    #                   \"RF_large\", \n",
    "    #                   \"Platt\", \"ISO\", \"Beta\", \"VA\",\n",
    "    #                   \"CT\", \"PPA\",\n",
    "    #                   \"Rank\"\n",
    "    #                   ],\n",
    "\n",
    "    # \"calib_method_colors\": {\n",
    "    #     \"RF_d\": \"blue\", \n",
    "    #     \"RF_opt\": \"orange\", \n",
    "    #     \"RF_large\": \"red\",\n",
    "    #     \"Platt\": \"Brown\", \n",
    "    #     \"ISO\": \"purple\", \n",
    "    #     \"Beta\": \"magenta\", \n",
    "    #     \"VA\": \"gray\",\n",
    "    #     \"CT\": \"slategray\",\n",
    "    #     \"PPA\": \"olive\", \n",
    "    #     \"Rank\": \"silver\"     \n",
    "    # },\n",
    "\n",
    "    \"calib_method_colors\": {\n",
    "        \"RF_d\": \"blue\", \n",
    "        \"RF_opt\": \"orange\", \n",
    "        \"RF_large\": \"red\",\n",
    "        \"DNN_ens\": \"olive\", \n",
    "        \"XGB\": \"olive\", \n",
    "        \"DT\": \"black\", \n",
    "        \"LR\": \"black\", \n",
    "        \"SVM\": \"black\", \n",
    "        \"DNN\": \"black\",\n",
    "        \"GNB\": \"black\",\n",
    "    },\n",
    "\n",
    "    \"calib_methods\": [\n",
    "        \"RF_d\",\n",
    "        # \"RF_opt\", \n",
    "        # \"RF_large\",\n",
    "        # \"DNN_ens\", \n",
    "        # \"XGB_opt\",\n",
    "        # \"DT_opt\", \n",
    "        # \"LR_opt\", \"SVM_opt\", \"DNN_opt\", \n",
    "        # \"GNB_opt\"          \n",
    "                      ],\n",
    "\n",
    "\n",
    "    \"metrics\": [\"acc\", \"brier\", \"ece\", \"logloss\", \"time\"],\n",
    "\n",
    "    # calib param   \n",
    "    \"bin_strategy\": \"uniform\",\n",
    "    \"ece_bins\": 20,\n",
    "    \"boot_size\": 1000, \n",
    "    \"boot_count\": 5,\n",
    "\n",
    "    # RF hyper opt\n",
    "    \"hyper_opt\": True,\n",
    "    \"opt_cv\":5, \n",
    "    \"opt_n_iter\":50,\n",
    "    \"opt_top_K\": 5,\n",
    "    \"search_space\": {\n",
    "                    \"n_estimators\": [100],\n",
    "                    \"max_depth\":  np.arange(2, 100).tolist() + [None], # [None, 5, 10, 15, 20, 30, 50], #\n",
    "                    \"criterion\": [\"gini\", \"entropy\"],\n",
    "                    \"max_features\": ['sqrt', 'log2', None],\n",
    "                    \"min_samples_split\": np.arange(2, 11).tolist(),\n",
    "                    \"min_samples_leaf\":  np.arange(1, 11).tolist(),\n",
    "                    'class_weight': [None, 'balanced', 'balanced_subsample'],  # Weight for each class\n",
    "                    \"oob_score\": [True],\n",
    "                    \"laplace\": [0,1]\n",
    "                    },\n",
    "    \n",
    "    \"oob\": False,\n",
    "    \"laplace\":1, # if set to 1, OOB must be false\n",
    "    \"curt_v\": np.arange(1, 100).tolist(),\n",
    "\n",
    "    \"exp_key\": \"data_name\",\n",
    "    \"exp_values\": [\n",
    "                #   \"cm1\",\n",
    "                #   \"datatrieve\",\n",
    "                #   \"kc1_class_level_defectiveornot\",\n",
    "                #   \"kc1\",\n",
    "                #   \"kc2\",\n",
    "                #   \"kc3\",\n",
    "                #   \"pc1\",\n",
    "                #   \"spect\",\n",
    "                #   \"spectf\",\n",
    "                #   \"vertebral\", \n",
    "                #   \"wilt\",\n",
    "                #   \"parkinsons\", \n",
    "                #   \"heart\",\n",
    "                #   \"wdbc\",\n",
    "                #   \"bank\", \n",
    "                  \"ionosphere\", \n",
    "                #   \"HRCompetencyScores\",\n",
    "                #   \"spambase\", \n",
    "                #   \"QSAR\", \n",
    "                #   \"diabetes\", \n",
    "                #   \"breast\", \n",
    "                #   \"SPF\",\n",
    "                #   \"hillvalley\",\n",
    "                #   \"pc4\",\n",
    "                #   \"scene\",\n",
    "                #   \"Sonar_Mine_Rock_Data\",\n",
    "                #   \"Customer_Churn\",\n",
    "                #   \"jm1\",\n",
    "                #   \"eeg\",\n",
    "                #   \"phoneme\",\n",
    "\n",
    "\n",
    "                  # \"madelon\",\n",
    "                  # \"nomao\",\n",
    "                  ]\n",
    "}\n",
    "\n",
    "ct.save_params(params)"
   ]
  },
  {
   "cell_type": "code",
   "execution_count": 3,
   "metadata": {},
   "outputs": [
    {
     "name": "stdout",
     "output_type": "stream",
     "text": [
      "exp_param ionosphere done\n"
     ]
    }
   ],
   "source": [
    "calib_results_dict, data_list = cx.run_exp(params[\"exp_key\"], params[\"exp_values\"], params)\n",
    "ct.save_results(calib_results_dict, params['exp_name'])"
   ]
  },
  {
   "cell_type": "code",
   "execution_count": 4,
   "metadata": {},
   "outputs": [],
   "source": [
    "tables = cal.mean_and_ranking_table(calib_results_dict, \n",
    "                                    params[\"metrics\"], \n",
    "                                    params[\"calib_methods\"], \n",
    "                                    data_list, \n",
    "                                    mean_and_rank=True, \n",
    "                                    std=True)\n",
    "ct.save_metrics_to_csv(tables, params[\"metrics\"], params['exp_name'])"
   ]
  },
  {
   "cell_type": "code",
   "execution_count": 5,
   "metadata": {},
   "outputs": [
    {
     "name": "stdout",
     "output_type": "stream",
     "text": [
      "metric acc\n"
     ]
    },
    {
     "ename": "ValueError",
     "evalue": "At least 3 sets of samples must be given for Friedman test, got 1.",
     "output_type": "error",
     "traceback": [
      "\u001b[0;31m---------------------------------------------------------------------------\u001b[0m",
      "\u001b[0;31mValueError\u001b[0m                                Traceback (most recent call last)",
      "Cell \u001b[0;32mIn[5], line 1\u001b[0m\n\u001b[0;32m----> 1\u001b[0m \u001b[43mct\u001b[49m\u001b[38;5;241;43m.\u001b[39;49m\u001b[43mres_statistics\u001b[49m\u001b[43m(\u001b[49m\u001b[43mtables\u001b[49m\u001b[43m,\u001b[49m\u001b[43m \u001b[49m\u001b[43mparams\u001b[49m\u001b[43m[\u001b[49m\u001b[38;5;124;43m\"\u001b[39;49m\u001b[38;5;124;43mmetrics\u001b[39;49m\u001b[38;5;124;43m\"\u001b[39;49m\u001b[43m]\u001b[49m\u001b[43m,\u001b[49m\u001b[43m \u001b[49m\u001b[38;5;124;43mf\u001b[39;49m\u001b[38;5;124;43m\"\u001b[39;49m\u001b[38;5;124;43mresults/\u001b[39;49m\u001b[38;5;132;43;01m{\u001b[39;49;00m\u001b[43mparams\u001b[49m\u001b[43m[\u001b[49m\u001b[38;5;124;43m'\u001b[39;49m\u001b[38;5;124;43mexp_name\u001b[39;49m\u001b[38;5;124;43m'\u001b[39;49m\u001b[43m]\u001b[49m\u001b[38;5;132;43;01m}\u001b[39;49;00m\u001b[38;5;124;43m\"\u001b[39;49m\u001b[43m,\u001b[49m\u001b[43m \u001b[49m\u001b[43mcolors\u001b[49m\u001b[38;5;241;43m=\u001b[39;49m\u001b[43mparams\u001b[49m\u001b[43m[\u001b[49m\u001b[38;5;124;43m\"\u001b[39;49m\u001b[38;5;124;43mcalib_method_colors\u001b[39;49m\u001b[38;5;124;43m\"\u001b[39;49m\u001b[43m]\u001b[49m\u001b[43m)\u001b[49m\n",
      "File \u001b[0;32m~/Documents/PhD/Projects/RF_ranking_calibration/Experiments/Data manipulation/../core_tools.py:114\u001b[0m, in \u001b[0;36mres_statistics\u001b[0;34m(tables, metrics, path, colors)\u001b[0m\n\u001b[1;32m    111\u001b[0m df \u001b[38;5;241m=\u001b[39m df\u001b[38;5;241m.\u001b[39mdrop([\u001b[38;5;124m\"\u001b[39m\u001b[38;5;124mMean\u001b[39m\u001b[38;5;124m\"\u001b[39m, \u001b[38;5;124m\"\u001b[39m\u001b[38;5;124mRank\u001b[39m\u001b[38;5;124m\"\u001b[39m])\n\u001b[1;32m    113\u001b[0m \u001b[38;5;66;03m# Perform the Friedman test\u001b[39;00m\n\u001b[0;32m--> 114\u001b[0m statistic, p_value \u001b[38;5;241m=\u001b[39m \u001b[43mfriedmanchisquare\u001b[49m\u001b[43m(\u001b[49m\u001b[38;5;241;43m*\u001b[39;49m\u001b[43mdf\u001b[49m\u001b[38;5;241;43m.\u001b[39;49m\u001b[43mvalues\u001b[49m\u001b[38;5;241;43m.\u001b[39;49m\u001b[43mT\u001b[49m\u001b[43m)\u001b[49m\n\u001b[1;32m    116\u001b[0m \u001b[38;5;28mprint\u001b[39m(\u001b[38;5;124mf\u001b[39m\u001b[38;5;124m\"\u001b[39m\u001b[38;5;124mFriedman Test Statistic: \u001b[39m\u001b[38;5;132;01m{\u001b[39;00mstatistic\u001b[38;5;132;01m}\u001b[39;00m\u001b[38;5;124m\"\u001b[39m)\n\u001b[1;32m    117\u001b[0m \u001b[38;5;28mprint\u001b[39m(\u001b[38;5;124mf\u001b[39m\u001b[38;5;124m\"\u001b[39m\u001b[38;5;124mP-value: \u001b[39m\u001b[38;5;132;01m{\u001b[39;00mp_value\u001b[38;5;132;01m}\u001b[39;00m\u001b[38;5;124m\"\u001b[39m)\n",
      "File \u001b[0;32m~/Documents/PhD/Projects/RF_ranking_calibration/RFcalib/lib/python3.11/site-packages/scipy/stats/_stats_py.py:8673\u001b[0m, in \u001b[0;36mfriedmanchisquare\u001b[0;34m(*samples)\u001b[0m\n\u001b[1;32m   8671\u001b[0m k \u001b[38;5;241m=\u001b[39m \u001b[38;5;28mlen\u001b[39m(samples)\n\u001b[1;32m   8672\u001b[0m \u001b[38;5;28;01mif\u001b[39;00m k \u001b[38;5;241m<\u001b[39m \u001b[38;5;241m3\u001b[39m:\n\u001b[0;32m-> 8673\u001b[0m     \u001b[38;5;28;01mraise\u001b[39;00m \u001b[38;5;167;01mValueError\u001b[39;00m(\u001b[38;5;124m'\u001b[39m\u001b[38;5;124mAt least 3 sets of samples must be given \u001b[39m\u001b[38;5;124m'\u001b[39m\n\u001b[1;32m   8674\u001b[0m                      \u001b[38;5;124m'\u001b[39m\u001b[38;5;124mfor Friedman test, got \u001b[39m\u001b[38;5;132;01m{}\u001b[39;00m\u001b[38;5;124m.\u001b[39m\u001b[38;5;124m'\u001b[39m\u001b[38;5;241m.\u001b[39mformat(k))\n\u001b[1;32m   8676\u001b[0m n \u001b[38;5;241m=\u001b[39m \u001b[38;5;28mlen\u001b[39m(samples[\u001b[38;5;241m0\u001b[39m])\n\u001b[1;32m   8677\u001b[0m \u001b[38;5;28;01mfor\u001b[39;00m i \u001b[38;5;129;01min\u001b[39;00m \u001b[38;5;28mrange\u001b[39m(\u001b[38;5;241m1\u001b[39m, k):\n",
      "\u001b[0;31mValueError\u001b[0m: At least 3 sets of samples must be given for Friedman test, got 1."
     ]
    }
   ],
   "source": [
    "ct.res_statistics(tables, params[\"metrics\"], f\"results/{params['exp_name']}\", colors=params[\"calib_method_colors\"])"
   ]
  },
  {
   "cell_type": "code",
   "execution_count": 11,
   "metadata": {},
   "outputs": [],
   "source": [
    "ct.save_metrics_to_latex(tables, params[\"metrics\"], params['exp_name'])"
   ]
  },
  {
   "cell_type": "code",
   "execution_count": 6,
   "metadata": {},
   "outputs": [
    {
     "data": {
      "text/plain": [
       "dict_keys(['cm1_RF_d_runtime', 'cm1_RF_d_time', 'cm1_RF_d_acc', 'cm1_RF_d_ece', 'cm1_RF_d_brier', 'cm1_RF_d_logloss', 'datatrieve_RF_d_runtime', 'datatrieve_RF_d_time', 'datatrieve_RF_d_acc', 'datatrieve_RF_d_ece', 'datatrieve_RF_d_brier', 'datatrieve_RF_d_logloss', 'kc1_class_level_defectiveornot_RF_d_runtime', 'kc1_class_level_defectiveornot_RF_d_time', 'kc1_class_level_defectiveornot_RF_d_acc', 'kc1_class_level_defectiveornot_RF_d_ece', 'kc1_class_level_defectiveornot_RF_d_brier', 'kc1_class_level_defectiveornot_RF_d_logloss', 'kc1_RF_d_runtime', 'kc1_RF_d_time', 'kc1_RF_d_acc', 'kc1_RF_d_ece', 'kc1_RF_d_brier', 'kc1_RF_d_logloss', 'kc2_RF_d_runtime', 'kc2_RF_d_time', 'kc2_RF_d_acc', 'kc2_RF_d_ece', 'kc2_RF_d_brier', 'kc2_RF_d_logloss', 'kc3_RF_d_runtime', 'kc3_RF_d_time', 'kc3_RF_d_acc', 'kc3_RF_d_ece', 'kc3_RF_d_brier', 'kc3_RF_d_logloss', 'pc1_RF_d_runtime', 'pc1_RF_d_time', 'pc1_RF_d_acc', 'pc1_RF_d_ece', 'pc1_RF_d_brier', 'pc1_RF_d_logloss', 'spect_RF_d_runtime', 'spect_RF_d_time', 'spect_RF_d_acc', 'spect_RF_d_ece', 'spect_RF_d_brier', 'spect_RF_d_logloss', 'spectf_RF_d_runtime', 'spectf_RF_d_time', 'spectf_RF_d_acc', 'spectf_RF_d_ece', 'spectf_RF_d_brier', 'spectf_RF_d_logloss', 'vertebral_RF_d_runtime', 'vertebral_RF_d_time', 'vertebral_RF_d_acc', 'vertebral_RF_d_ece', 'vertebral_RF_d_brier', 'vertebral_RF_d_logloss', 'wilt_RF_d_runtime', 'wilt_RF_d_time', 'wilt_RF_d_acc', 'wilt_RF_d_ece', 'wilt_RF_d_brier', 'wilt_RF_d_logloss', 'parkinsons_RF_d_runtime', 'parkinsons_RF_d_time', 'parkinsons_RF_d_acc', 'parkinsons_RF_d_ece', 'parkinsons_RF_d_brier', 'parkinsons_RF_d_logloss', 'heart_RF_d_runtime', 'heart_RF_d_time', 'heart_RF_d_acc', 'heart_RF_d_ece', 'heart_RF_d_brier', 'heart_RF_d_logloss', 'wdbc_RF_d_runtime', 'wdbc_RF_d_time', 'wdbc_RF_d_acc', 'wdbc_RF_d_ece', 'wdbc_RF_d_brier', 'wdbc_RF_d_logloss', 'bank_RF_d_runtime', 'bank_RF_d_time', 'bank_RF_d_acc', 'bank_RF_d_ece', 'bank_RF_d_brier', 'bank_RF_d_logloss', 'ionosphere_RF_d_runtime', 'ionosphere_RF_d_time', 'ionosphere_RF_d_acc', 'ionosphere_RF_d_ece', 'ionosphere_RF_d_brier', 'ionosphere_RF_d_logloss', 'HRCompetencyScores_RF_d_runtime', 'HRCompetencyScores_RF_d_time', 'HRCompetencyScores_RF_d_acc', 'HRCompetencyScores_RF_d_ece', 'HRCompetencyScores_RF_d_brier', 'HRCompetencyScores_RF_d_logloss', 'spambase_RF_d_runtime', 'spambase_RF_d_time', 'spambase_RF_d_acc', 'spambase_RF_d_ece', 'spambase_RF_d_brier', 'spambase_RF_d_logloss', 'QSAR_RF_d_runtime', 'QSAR_RF_d_time', 'QSAR_RF_d_acc', 'QSAR_RF_d_ece', 'QSAR_RF_d_brier', 'QSAR_RF_d_logloss', 'diabetes_RF_d_runtime', 'diabetes_RF_d_time', 'diabetes_RF_d_acc', 'diabetes_RF_d_ece', 'diabetes_RF_d_brier', 'diabetes_RF_d_logloss', 'breast_RF_d_runtime', 'breast_RF_d_time', 'breast_RF_d_acc', 'breast_RF_d_ece', 'breast_RF_d_brier', 'breast_RF_d_logloss', 'SPF_RF_d_runtime', 'SPF_RF_d_time', 'SPF_RF_d_acc', 'SPF_RF_d_ece', 'SPF_RF_d_brier', 'SPF_RF_d_logloss', 'hillvalley_RF_d_runtime', 'hillvalley_RF_d_time', 'hillvalley_RF_d_acc', 'hillvalley_RF_d_ece', 'hillvalley_RF_d_brier', 'hillvalley_RF_d_logloss', 'pc4_RF_d_runtime', 'pc4_RF_d_time', 'pc4_RF_d_acc', 'pc4_RF_d_ece', 'pc4_RF_d_brier', 'pc4_RF_d_logloss', 'scene_RF_d_runtime', 'scene_RF_d_time', 'scene_RF_d_acc', 'scene_RF_d_ece', 'scene_RF_d_brier', 'scene_RF_d_logloss', 'Sonar_Mine_Rock_Data_RF_d_runtime', 'Sonar_Mine_Rock_Data_RF_d_time', 'Sonar_Mine_Rock_Data_RF_d_acc', 'Sonar_Mine_Rock_Data_RF_d_ece', 'Sonar_Mine_Rock_Data_RF_d_brier', 'Sonar_Mine_Rock_Data_RF_d_logloss', 'Customer_Churn_RF_d_runtime', 'Customer_Churn_RF_d_time', 'Customer_Churn_RF_d_acc', 'Customer_Churn_RF_d_ece', 'Customer_Churn_RF_d_brier', 'Customer_Churn_RF_d_logloss', 'jm1_RF_d_runtime', 'jm1_RF_d_time', 'jm1_RF_d_acc', 'jm1_RF_d_ece', 'jm1_RF_d_brier', 'jm1_RF_d_logloss', 'eeg_RF_d_runtime', 'eeg_RF_d_time', 'eeg_RF_d_acc', 'eeg_RF_d_ece', 'eeg_RF_d_brier', 'eeg_RF_d_logloss', 'phoneme_RF_d_runtime', 'phoneme_RF_d_time', 'phoneme_RF_d_acc', 'phoneme_RF_d_ece', 'phoneme_RF_d_brier', 'phoneme_RF_d_logloss'])"
      ]
     },
     "execution_count": 6,
     "metadata": {},
     "output_type": "execute_result"
    }
   ],
   "source": [
    "calib_results_dict.keys()"
   ]
  }
 ],
 "metadata": {
  "kernelspec": {
   "display_name": "RFcalib",
   "language": "python",
   "name": "python3"
  },
  "language_info": {
   "codemirror_mode": {
    "name": "ipython",
    "version": 3
   },
   "file_extension": ".py",
   "mimetype": "text/x-python",
   "name": "python",
   "nbconvert_exporter": "python",
   "pygments_lexer": "ipython3",
   "version": "3.11.1"
  },
  "orig_nbformat": 4
 },
 "nbformat": 4,
 "nbformat_minor": 2
}
