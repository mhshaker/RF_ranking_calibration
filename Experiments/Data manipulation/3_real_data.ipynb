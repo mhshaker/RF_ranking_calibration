{
 "cells": [
  {
   "cell_type": "code",
   "execution_count": 1,
   "metadata": {},
   "outputs": [],
   "source": [
    "# How changing the dataset sample size effects the calibration methods\n",
    "# Fix training dataset size and change the calib set samples - best method is one that gets max calib with least data\n",
    "\n",
    "# imports\n",
    "import sys\n",
    "import numpy as np\n",
    "import pandas as pd\n",
    "sys.path.append('../../') # to access the files in higher directories\n",
    "sys.path.append('../') # to access the files in higher directories\n",
    "pd.set_option('display.max_rows', 500)\n",
    "pd.set_option('display.max_columns', 500)\n",
    "pd.set_option('display.width', 1000)\n",
    "\n",
    "import core_exp as cx\n",
    "import core_calib as cal\n",
    "import core_tools as ct\n",
    "\n",
    "import warnings\n",
    "from sklearn.exceptions import DataConversionWarning\n",
    "\n",
    "# Ignore all warnings from scikit-learn\n",
    "warnings.filterwarnings(\"ignore\", module=\"sklearn\")\n",
    "warnings.filterwarnings(\"ignore\", category=DeprecationWarning)\n",
    "warnings.filterwarnings(\"ignore\", category=FutureWarning)\n",
    "warnings.filterwarnings(\"ignore\", category=UserWarning)\n",
    "# Add more categories if needed\n",
    "\n"
   ]
  },
  {
   "cell_type": "code",
   "execution_count": 2,
   "metadata": {},
   "outputs": [],
   "source": [
    "params = {\n",
    "    # exp\n",
    "    \"seed\": 0,\n",
    "    \"runs\": 5,\n",
    "    \"exp_name\": ct.generate_readable_short_id(\"paper10CV100tree\"), #\"main_run5_cv5_21data_100trees_40opt_fast\",\n",
    "    \"path\": \"../../\",\n",
    "    \"split\": \"CV\", #CV, random_split\n",
    "    \"cv_folds\": 10,\n",
    "    \"plot\": False,\n",
    "\n",
    "    \"calib_methods\": [\n",
    "                      \"RF_d\",\n",
    "                      \"RF_opt\", \n",
    "                      \"RF_large\", \n",
    "                      \"Platt\", \"ISO\", \"Beta\", \"VA\",\n",
    "                      \"CT\", \"PPA\",\n",
    "                      \"Rank\"\n",
    "                      ],\n",
    "\n",
    "    \"calib_method_colors\": {\n",
    "        \"RF_d\": \"blue\", \n",
    "        \"RF_opt\": \"orange\", \n",
    "        \"RF_large\": \"red\",\n",
    "        \"Platt\": \"Brown\", \n",
    "        \"ISO\": \"purple\", \n",
    "        \"Beta\": \"magenta\", \n",
    "        \"VA\": \"gray\",\n",
    "        \"CT\": \"slategray\",\n",
    "        \"PPA\": \"olive\", \n",
    "        \"Rank\": \"silver\"     \n",
    "    },\n",
    "\n",
    "    # \"calib_methods\": [\"RF_opt\", \"RF_large\",\n",
    "    #                   \"DT\", \"LR\", \"SVM\", \"NN\", \"GNB\"          \n",
    "    #                   ],\n",
    "\n",
    "\n",
    "    \"metrics\": [\"acc\", \"brier\", \"ece\", \"logloss\", \"time\"],\n",
    "\n",
    "    # calib param   \n",
    "    \"bin_strategy\": \"uniform\",\n",
    "    \"ece_bins\": 20,\n",
    "    \"boot_size\": 1000, \n",
    "    \"boot_count\": 5,\n",
    "\n",
    "    # RF hyper opt\n",
    "    \"hyper_opt\": True,\n",
    "    \"opt_cv\":5, \n",
    "    \"opt_n_iter\":50,\n",
    "    \"opt_top_K\": 5,\n",
    "    \"search_space\": {\n",
    "                    \"n_estimators\": [100],\n",
    "                    \"max_depth\":  np.arange(2, 100).tolist() + [None], # [None, 5, 10, 15, 20, 30, 50], #\n",
    "                    \"criterion\": [\"gini\", \"entropy\"],\n",
    "                    \"max_features\": ['sqrt', 'log2', None],\n",
    "                    \"min_samples_split\": np.arange(2, 11).tolist(),\n",
    "                    \"min_samples_leaf\":  np.arange(1, 11).tolist(),\n",
    "                    'class_weight': [None, 'balanced', 'balanced_subsample'],  # Weight for each class\n",
    "                    \"oob_score\": [False],\n",
    "                    \"laplace\": [0,1]\n",
    "                    },\n",
    "    \n",
    "    \"oob\": False,\n",
    "    \"laplace\": 0, # if set to 1, OOB must be false\n",
    "    \"curt_v\": np.arange(1, 100).tolist(),\n",
    "\n",
    "    \"exp_key\": \"data_name\",\n",
    "    \"exp_values\": [\n",
    "                  \"cm1\",\n",
    "                  \"datatrieve\",\n",
    "                  \"kc1_class_level_defectiveornot\",\n",
    "                  \"kc1\",\n",
    "                  \"kc2\",\n",
    "                  \"kc3\",\n",
    "                  \"pc1\",\n",
    "                  \"spect\",\n",
    "                  \"spectf\",\n",
    "                  \"vertebral\", \n",
    "                  \"wilt\",\n",
    "                  \"parkinsons\", \n",
    "                  \"heart\",\n",
    "                  \"wdbc\",\n",
    "                  \"bank\", \n",
    "                  \"ionosphere\", \n",
    "                  \"HRCompetencyScores\",\n",
    "                  \"spambase\", \n",
    "                  \"QSAR\", \n",
    "                  \"diabetes\", \n",
    "                  \"breast\", \n",
    "                  \"SPF\",\n",
    "                  \"hillvalley\",\n",
    "                  \"pc4\",\n",
    "                  \"scene\",\n",
    "                  \"Sonar_Mine_Rock_Data\",\n",
    "                  \"Customer_Churn\",\n",
    "                  \"jm1\",\n",
    "                  \"eeg\",\n",
    "                  \"phoneme\",\n",
    "\n",
    "\n",
    "                  # \"madelon\",\n",
    "                  # \"nomao\",\n",
    "                  ]\n",
    "}\n",
    "\n",
    "ct.save_params(params)"
   ]
  },
  {
   "cell_type": "code",
   "execution_count": 3,
   "metadata": {},
   "outputs": [
    {
     "name": "stdout",
     "output_type": "stream",
     "text": [
      "exp_param cm1 done\n",
      "exp_param datatrieve done\n",
      "exp_param kc1_class_level_defectiveornot done\n",
      "exp_param kc1 done\n",
      "exp_param kc2 done\n",
      "exp_param kc3 done\n",
      "exp_param pc1 done\n",
      "exp_param spect done\n",
      "exp_param spectf done\n",
      "exp_param vertebral done\n"
     ]
    }
   ],
   "source": [
    "calib_results_dict, data_list = cx.run_exp(params[\"exp_key\"], params[\"exp_values\"], params)\n",
    "ct.save_results(calib_results_dict, params['exp_name'])"
   ]
  },
  {
   "cell_type": "code",
   "execution_count": null,
   "metadata": {},
   "outputs": [],
   "source": [
    "tables = cal.mean_and_ranking_table(calib_results_dict, \n",
    "                                    params[\"metrics\"], \n",
    "                                    params[\"calib_methods\"], \n",
    "                                    data_list, \n",
    "                                    mean_and_rank=True, \n",
    "                                    std=True)\n",
    "ct.save_metrics_to_csv(tables, params[\"metrics\"], params['exp_name'])"
   ]
  },
  {
   "cell_type": "code",
   "execution_count": null,
   "metadata": {},
   "outputs": [
    {
     "name": "stdout",
     "output_type": "stream",
     "text": [
      "metric acc\n",
      "Friedman Test Statistic: 80.21330603889466\n",
      "P-value: 1.4658877203670927e-13\n",
      "The differences between groups are significant.\n",
      "metric brier\n",
      "Friedman Test Statistic: 141.76275303643726\n",
      "P-value: 4.4616462132159807e-26\n",
      "The differences between groups are significant.\n",
      "metric ece\n",
      "Friedman Test Statistic: 46.07854251012147\n",
      "P-value: 5.823261331667737e-07\n",
      "The differences between groups are significant.\n",
      "metric logloss\n",
      "Friedman Test Statistic: 146.24089068825916\n",
      "P-value: 5.292773375129392e-27\n",
      "The differences between groups are significant.\n",
      "metric time\n",
      "Friedman Test Statistic: 220.9163636363637\n",
      "P-value: 1.3428361997703552e-42\n",
      "The differences between groups are significant.\n"
     ]
    }
   ],
   "source": [
    "ct.res_statistics(tables, params[\"metrics\"], f\"results/{params['exp_name']}\", colors=params[\"calib_method_colors\"])"
   ]
  },
  {
   "cell_type": "code",
   "execution_count": null,
   "metadata": {},
   "outputs": [],
   "source": [
    "ct.save_metrics_to_latex(tables, params[\"metrics\"], params['exp_name'])"
   ]
  }
 ],
 "metadata": {
  "kernelspec": {
   "display_name": "Python 3",
   "language": "python",
   "name": "python3"
  },
  "language_info": {
   "codemirror_mode": {
    "name": "ipython",
    "version": 3
   },
   "file_extension": ".py",
   "mimetype": "text/x-python",
   "name": "python",
   "nbconvert_exporter": "python",
   "pygments_lexer": "ipython3",
   "version": "3.11.1"
  },
  "orig_nbformat": 4,
  "vscode": {
   "interpreter": {
    "hash": "aee8b7b246df8f9039afb4144a1f6fd8d2ca17a180786b69acc140d282b71a49"
   }
  }
 },
 "nbformat": 4,
 "nbformat_minor": 2
}
