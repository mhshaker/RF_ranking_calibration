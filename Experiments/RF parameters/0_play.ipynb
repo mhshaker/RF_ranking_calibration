{
 "cells": [
  {
   "cell_type": "code",
   "execution_count": null,
   "metadata": {},
   "outputs": [],
   "source": [
    "# imports\n",
    "import sys\n",
    "import pandas as pd\n",
    "sys.path.append('../../') # to access the files in higher directories\n",
    "sys.path.append('../') # to access the files in higher directories\n",
    "pd.set_option('display.max_rows', 500)\n",
    "pd.set_option('display.max_columns', 500)\n",
    "pd.set_option('display.width', 1000)\n",
    "\n",
    "import core_exp as cx\n",
    "import core_calib as cal\n",
    "import core_tools as ct"
   ]
  },
  {
   "cell_type": "code",
   "execution_count": null,
   "metadata": {},
   "outputs": [],
   "source": [
    "params = {\n",
    "    # exp\n",
    "    \"seed\": 0,\n",
    "    \"runs\": 2,\n",
    "    \"exp_name\": ct.generate_readable_short_id(), #\"main_run5_cv5_21data_100trees_40opt_fast\",\n",
    "    \"path\": \"../../\",\n",
    "    \"split\": \"CV\", #CV, random_split\n",
    "    # \"test_split\": 0.3,\n",
    "    # \"calib_split\": 0.1,\n",
    "    \"cv_folds\": 5,\n",
    "    \"plot\": False,\n",
    "    \"calib_methods\": [\"RF_d\", \"RF_opt\",\n",
    "                      \"Platt\", \"ISO\", \"Beta\", \"CRF\", \"VA\",\n",
    "                      \"tlr\", \"Rank\", #\"Elkan\"\n",
    "                      # \"RF_ens_k\", \"RF_ens_r\", \n",
    "                      \"RF_large\",\n",
    "                      ],\n",
    "    \n",
    "    \"metrics\": [\"acc\", \"ece\", \"logloss\", \"tce\", \"BS\", \"BS2\", \"CL\", \"GL\", \"IL\"], \n",
    "\n",
    "    #data\n",
    "    \"data_name\": \"synthetic\",\n",
    "    \"plot_data\": True,\n",
    "    \"data_size\": 20,\n",
    "    \"n_copy\": 10,\n",
    "    \"n_features\": 20,\n",
    "    \"n_informative\": 15, \n",
    "    \"n_redundant\": 5, \n",
    "    \"n_repeated\": 0, \n",
    "\n",
    "    \"class1_mean_min\":0, \n",
    "    \"class1_mean_max\":1,\n",
    "    \"class2_mean_min\":1, \n",
    "    \"class2_mean_max\":3, \n",
    "\n",
    "    # calib param\n",
    "    \"bin_strategy\": \"uniform\",\n",
    "    \"ece_bins\": 20,\n",
    "    \"boot_size\": 1000, \n",
    "    \"boot_count\": 5,\n",
    "\n",
    "    # RF hyper opt\n",
    "    \"hyper_opt\": True,\n",
    "    \"opt_cv\":5, \n",
    "    \"opt_n_iter\":50,\n",
    "    \"opt_top_K\": 5,\n",
    "    \"search_space\": {\n",
    "                    \"n_estimators\": [10],\n",
    "                    \"max_depth\": [2,3,4,5,6,7,8,10,15,20,30,40,50,60,100],\n",
    "                    \"criterion\": [\"gini\", \"entropy\"],\n",
    "                    \"max_features\": [\"sqrt\", \"log2\"],\n",
    "                    \"min_samples_split\": [2,3,4,5],\n",
    "                    \"min_samples_leaf\": [1,2,3],\n",
    "                    \"oob_score\": [False]\n",
    "                    },\n",
    "    \n",
    "    \"n_estimators\": 10,\n",
    "    \"oob\": False,\n",
    "\n",
    "    \"exp_key\": \"depth\",\n",
    "    \"exp_values\": [2,3,4]\n",
    "}\n",
    "\n",
    "ct.save_params(params)"
   ]
  },
  {
   "cell_type": "code",
   "execution_count": null,
   "metadata": {},
   "outputs": [],
   "source": [
    "calib_results_dict, data_list = cx.run_exp(params[\"exp_key\"], params[\"exp_values\"], params)\n",
    "ct.save_results(calib_results_dict, params['exp_name'])"
   ]
  },
  {
   "cell_type": "code",
   "execution_count": null,
   "metadata": {},
   "outputs": [],
   "source": [
    "tables = cal.mean_and_ranking_table(calib_results_dict, \n",
    "                                    params[\"metrics\"], \n",
    "                                    params[\"calib_methods\"], \n",
    "                                    data_list, \n",
    "                                    mean_and_rank=True, \n",
    "                                    std=True)"
   ]
  },
  {
   "cell_type": "code",
   "execution_count": null,
   "metadata": {},
   "outputs": [],
   "source": [
    "ct.res_statistics(tables, params, params[\"calib_methods\"])"
   ]
  },
  {
   "cell_type": "code",
   "execution_count": null,
   "metadata": {},
   "outputs": [],
   "source": [
    "plot_calib_methods = params[\"calib_methods\"].copy()\n",
    "\n",
    "tables_plot = cal.mean_and_ranking_table(calib_results_dict, \n",
    "                                    params[\"metrics\"], \n",
    "                                    params[\"calib_methods\"], \n",
    "                                    data_list, \n",
    "                                    mean_and_rank=False, \n",
    "                                    std=True)\n",
    "for metric in params[\"metrics\"]:\n",
    "    ax = tables_plot[metric][plot_calib_methods].plot()\n",
    "    ax.set_xlabel(exp_key)\n",
    "    ax.set_ylabel(metric)"
   ]
  }
 ],
 "metadata": {
  "kernelspec": {
   "display_name": "RFcalib",
   "language": "python",
   "name": "python3"
  },
  "language_info": {
   "codemirror_mode": {
    "name": "ipython",
    "version": 3
   },
   "file_extension": ".py",
   "mimetype": "text/x-python",
   "name": "python",
   "nbconvert_exporter": "python",
   "pygments_lexer": "ipython3",
   "version": "3.11.1"
  },
  "orig_nbformat": 4
 },
 "nbformat": 4,
 "nbformat_minor": 2
}
