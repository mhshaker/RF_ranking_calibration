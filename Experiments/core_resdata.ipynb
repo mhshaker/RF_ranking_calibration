{
 "cells": [
  {
   "cell_type": "code",
   "execution_count": 1,
   "metadata": {},
   "outputs": [],
   "source": [
    "# read saved results (tables) of old runs\n",
    "# combine multiple runs\n",
    "# make significance plots\n",
    "\n",
    "import sys\n",
    "import os\n",
    "import pandas as pd\n",
    "import numpy as np\n",
    "sys.path.append('../../') # to access the files in higher directories\n",
    "sys.path.append('../') # to access the files in higher directories\n",
    "import pandas as pd\n",
    "import core_tools as ct\n",
    "import core_calib as cal\n",
    "import matplotlib.pyplot as plt\n"
   ]
  },
  {
   "cell_type": "code",
   "execution_count": 2,
   "metadata": {},
   "outputs": [],
   "source": [
    "main_path = './Data manipulation/results'\n",
    "exp_names = [\"1726750556_XGB_opt\", \"1726604185_Model_comp\", \"1726834147_RF_d\"] #\n",
    "# exp_names = [\"1726176638_Overlap_fix100tree_2D\", \"1726193690_Overlap_fix100tree_5D\", \"1726214273_Overlap_fix100tree_10D\", \"1726244802_Overlap_fix100tree_20D\"] "
   ]
  },
  {
   "cell_type": "code",
   "execution_count": 3,
   "metadata": {},
   "outputs": [],
   "source": [
    "calib_method_colors = {\n",
    "        \"RF_d\": \"blue\", \n",
    "        \"RF_opt\": \"orange\", \n",
    "        \"RF_large\": \"red\",\n",
    "        \"DNN_ens\": \"olive\", \n",
    "        \"XGB_d\": \"olive\", \n",
    "        \"XGB_opt\": \"olive\", \n",
    "        \"DT_opt\": \"black\", \n",
    "        \"LR_opt\": \"black\", \n",
    "        \"SVM_opt\": \"black\", \n",
    "        \"DNN_opt\": \"black\",\n",
    "        \"GNB_opt\": \"black\",\n",
    "    }\n",
    "\n",
    "# methods_all = ['RF_d', 'RF_opt', 'RF_large','DNN_ens','XGB', 'XGB_opt', 'DT', 'LR', 'SVM', 'NN', 'GNB']\n",
    "methods_all_fix = ['RF_d', 'RF_opt', 'RF_large','DNN_ens','XGB_d', 'XGB_opt', 'DT_opt', 'LR_opt', 'SVM_opt', 'DNN_opt', 'GNB_opt']"
   ]
  },
  {
   "cell_type": "code",
   "execution_count": 4,
   "metadata": {},
   "outputs": [
    {
     "name": "stderr",
     "output_type": "stream",
     "text": [
      "/Users/mhshaker/Documents/PhD/Projects/RF_ranking_calibration/Experiments/core_tools.py:83: FutureWarning: In future versions `DataFrame.to_latex` is expected to utilise the base implementation of `Styler.to_latex` for formatting and rendering. The arguments signature may therefore change. It is recommended instead to use `DataFrame.style.to_latex` which also contains additional functionality.\n",
      "  tables[metric].round(5).to_latex(f\"{path}/{metric}.txt\")\n",
      "/Users/mhshaker/Documents/PhD/Projects/RF_ranking_calibration/Experiments/core_tools.py:83: FutureWarning: In future versions `DataFrame.to_latex` is expected to utilise the base implementation of `Styler.to_latex` for formatting and rendering. The arguments signature may therefore change. It is recommended instead to use `DataFrame.style.to_latex` which also contains additional functionality.\n",
      "  tables[metric].round(5).to_latex(f\"{path}/{metric}.txt\")\n",
      "/Users/mhshaker/Documents/PhD/Projects/RF_ranking_calibration/Experiments/core_tools.py:83: FutureWarning: In future versions `DataFrame.to_latex` is expected to utilise the base implementation of `Styler.to_latex` for formatting and rendering. The arguments signature may therefore change. It is recommended instead to use `DataFrame.style.to_latex` which also contains additional functionality.\n",
      "  tables[metric].round(5).to_latex(f\"{path}/{metric}.txt\")\n",
      "/Users/mhshaker/Documents/PhD/Projects/RF_ranking_calibration/Experiments/core_tools.py:83: FutureWarning: In future versions `DataFrame.to_latex` is expected to utilise the base implementation of `Styler.to_latex` for formatting and rendering. The arguments signature may therefore change. It is recommended instead to use `DataFrame.style.to_latex` which also contains additional functionality.\n",
      "  tables[metric].round(5).to_latex(f\"{path}/{metric}.txt\")\n",
      "/Users/mhshaker/Documents/PhD/Projects/RF_ranking_calibration/Experiments/core_tools.py:83: FutureWarning: In future versions `DataFrame.to_latex` is expected to utilise the base implementation of `Styler.to_latex` for formatting and rendering. The arguments signature may therefore change. It is recommended instead to use `DataFrame.style.to_latex` which also contains additional functionality.\n",
      "  tables[metric].round(5).to_latex(f\"{path}/{metric}.txt\")\n",
      "/Users/mhshaker/Documents/PhD/Projects/RF_ranking_calibration/Experiments/core_tools.py:87: FutureWarning: In future versions `DataFrame.to_latex` is expected to utilise the base implementation of `Styler.to_latex` for formatting and rendering. The arguments signature may therefore change. It is recommended instead to use `DataFrame.style.to_latex` which also contains additional functionality.\n",
      "  tables[metric+ \"_std\"].round(5).to_latex(f\"{path}/{metric}_std.txt\")\n",
      "/Users/mhshaker/Documents/PhD/Projects/RF_ranking_calibration/Experiments/core_tools.py:87: FutureWarning: In future versions `DataFrame.to_latex` is expected to utilise the base implementation of `Styler.to_latex` for formatting and rendering. The arguments signature may therefore change. It is recommended instead to use `DataFrame.style.to_latex` which also contains additional functionality.\n",
      "  tables[metric+ \"_std\"].round(5).to_latex(f\"{path}/{metric}_std.txt\")\n",
      "/Users/mhshaker/Documents/PhD/Projects/RF_ranking_calibration/Experiments/core_tools.py:87: FutureWarning: In future versions `DataFrame.to_latex` is expected to utilise the base implementation of `Styler.to_latex` for formatting and rendering. The arguments signature may therefore change. It is recommended instead to use `DataFrame.style.to_latex` which also contains additional functionality.\n",
      "  tables[metric+ \"_std\"].round(5).to_latex(f\"{path}/{metric}_std.txt\")\n",
      "/Users/mhshaker/Documents/PhD/Projects/RF_ranking_calibration/Experiments/core_tools.py:87: FutureWarning: In future versions `DataFrame.to_latex` is expected to utilise the base implementation of `Styler.to_latex` for formatting and rendering. The arguments signature may therefore change. It is recommended instead to use `DataFrame.style.to_latex` which also contains additional functionality.\n",
      "  tables[metric+ \"_std\"].round(5).to_latex(f\"{path}/{metric}_std.txt\")\n",
      "/Users/mhshaker/Documents/PhD/Projects/RF_ranking_calibration/Experiments/core_tools.py:87: FutureWarning: In future versions `DataFrame.to_latex` is expected to utilise the base implementation of `Styler.to_latex` for formatting and rendering. The arguments signature may therefore change. It is recommended instead to use `DataFrame.style.to_latex` which also contains additional functionality.\n",
      "  tables[metric+ \"_std\"].round(5).to_latex(f\"{path}/{metric}_std.txt\")\n"
     ]
    },
    {
     "name": "stdout",
     "output_type": "stream",
     "text": [
      "metric acc\n",
      "Friedman Test Statistic: 108.89820176775372\n",
      "P-value: 8.897954337308223e-19\n",
      "The differences between groups are significant.\n",
      "metric brier\n",
      "Friedman Test Statistic: 154.9893455098934\n",
      "P-value: 3.500021625059233e-28\n",
      "The differences between groups are significant.\n",
      "metric ece\n",
      "Friedman Test Statistic: 78.37442922374427\n",
      "P-value: 1.04475537674214e-12\n",
      "The differences between groups are significant.\n",
      "metric logloss\n",
      "Friedman Test Statistic: 167.55555555555551\n",
      "P-value: 8.893208039530014e-31\n",
      "The differences between groups are significant.\n",
      "metric time\n",
      "Friedman Test Statistic: 283.5212121212121\n",
      "P-value: 4.704379692373434e-55\n",
      "The differences between groups are significant.\n"
     ]
    }
   ],
   "source": [
    "# to combine Calib and OOB runs in one CD plot\n",
    "dict_all = {}\n",
    "methods_all = []\n",
    "for exp in exp_names:\n",
    "    path = f\"{main_path}/{exp}\"\n",
    "    dict_data, _, params = ct.read_results(path)\n",
    "    methods_all.extend(params[\"calib_methods\"])\n",
    "    dict_all.update(dict_data) # merge results of all datasets together\n",
    "\n",
    "dict_all = {key.replace('_XGB_', '_XGB_d_') if '_XGB_opt_' not in key else key: value for key, value in dict_all.items()}\n",
    "dict_all = {key.replace('_DT_', '_DT_opt_'): value for key, value in dict_all.items()}\n",
    "dict_all = {key.replace('_LR_', '_LR_opt_'): value for key, value in dict_all.items()}\n",
    "dict_all = {key.replace('_SVM_', '_SVM_opt_'): value for key, value in dict_all.items()}\n",
    "dict_all = {key.replace('_NN_', '_DNN_opt_'): value for key, value in dict_all.items()}\n",
    "dict_all = {key.replace('_GNB_', '_GNB_opt_'): value for key, value in dict_all.items()}\n",
    "\n",
    "\n",
    "tables = cal.mean_and_ranking_table(dict_all, \n",
    "                                    params[\"metrics\"], \n",
    "                                    methods_all_fix, \n",
    "                                    params[\"exp_values\"], \n",
    "                                    mean_and_rank=True, \n",
    "                                    std=True)\n",
    "\n",
    "\n",
    "# ct.save_metrics_to_csv(tables, params[\"metrics\"], params['exp_name'])\n",
    "ct.save_metrics_to_latex(tables, params[\"metrics\"], params['exp_name'])\n",
    "ct.res_statistics(tables, params[\"metrics\"], f\"./results/{params['exp_name']}\", colors=calib_method_colors)"
   ]
  }
 ],
 "metadata": {
  "kernelspec": {
   "display_name": "RFcalib",
   "language": "python",
   "name": "python3"
  },
  "language_info": {
   "codemirror_mode": {
    "name": "ipython",
    "version": 3
   },
   "file_extension": ".py",
   "mimetype": "text/x-python",
   "name": "python",
   "nbconvert_exporter": "python",
   "pygments_lexer": "ipython3",
   "version": "3.11.1"
  },
  "orig_nbformat": 4
 },
 "nbformat": 4,
 "nbformat_minor": 2
}
