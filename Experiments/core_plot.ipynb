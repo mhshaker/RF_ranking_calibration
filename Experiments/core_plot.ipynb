{
 "cells": [
  {
   "cell_type": "code",
   "execution_count": 16,
   "metadata": {},
   "outputs": [],
   "source": [
    "# read saved results (tables) of old runs\n",
    "# combine multiple runs\n",
    "# make significance plots\n",
    "\n",
    "import sys\n",
    "import pandas as pd\n",
    "import numpy as np\n",
    "sys.path.append('../../') # to access the files in higher directories\n",
    "sys.path.append('../') # to access the files in higher directories\n",
    "import pandas as pd\n",
    "import core_tools as ct\n",
    "import core_calib as cal"
   ]
  },
  {
   "cell_type": "code",
   "execution_count": 17,
   "metadata": {},
   "outputs": [],
   "source": [
    "main_path = './Data manipulation/results'\n",
    "# exp_names = [\"1692118038_T10\", \"1692121657_T50\", \"1692130088_T100\", \"1692161204_O50\", \"1692172225_O100\"] # , \"1692107939_Z8T0\"\n",
    "# exp_names = [\"1698251557_Paper_v3_Real30_MLcomp\"]\n",
    "exp_names = [\"1714153141_Real30_CTfix4\", \"1714161293_CT_L1\"]"
   ]
  },
  {
   "cell_type": "code",
   "execution_count": 18,
   "metadata": {},
   "outputs": [],
   "source": [
    "# # to make latex tables of metrics\n",
    "# for exp in exp_names:\n",
    "#     path = f\"{main_path}/{exp}\"\n",
    "#     dict_data, tables, params = ct.read_results(path)\n",
    "#     tables = ct.add_rank_mean(tables)\n",
    "#     ct.save_metrics_to_latex(tables, params[\"metrics\"], path, False)"
   ]
  },
  {
   "cell_type": "code",
   "execution_count": 19,
   "metadata": {},
   "outputs": [],
   "source": [
    "# colors = {\n",
    "#         \"RF_opt\": \"orange\", \n",
    "#         \"RF_large\": \"red\",\n",
    "#         \"DT\": \"forestgreen\", \n",
    "#         \"LR\": \"lightgray\", \n",
    "#         \"NN\": \"black\", \n",
    "#         \"SVM\": \"dimgrey\", \n",
    "#         \"GNB\": \"gray\",\n",
    "#     }\n",
    "\n",
    "\n",
    "# # to make CD plots for one stand alone exp\n",
    "# for exp in exp_names:\n",
    "#     path = f\"{main_path}/{exp}\"\n",
    "#     dict_data, tables, params = ct.read_results(path)\n",
    "#     tables = ct.add_rank_mean(tables)\n",
    "#     ct.res_statistics(tables, params[\"metrics\"], path, colors=colors)"
   ]
  },
  {
   "cell_type": "code",
   "execution_count": 20,
   "metadata": {},
   "outputs": [
    {
     "name": "stdout",
     "output_type": "stream",
     "text": [
      "metric acc\n",
      "Friedman Test Statistic: 183.59713283359852\n",
      "P-value: 6.047299466058437e-29\n",
      "The differences between groups are significant.\n",
      "metric brier\n",
      "Friedman Test Statistic: 256.67667552258257\n",
      "P-value: 1.371806030400379e-43\n",
      "The differences between groups are significant.\n",
      "metric ece\n",
      "Friedman Test Statistic: 113.50092736478025\n",
      "P-value: 1.797506327185852e-15\n",
      "The differences between groups are significant.\n",
      "metric logloss\n",
      "Friedman Test Statistic: 353.49486189783966\n",
      "P-value: 1.9352200642613064e-63\n",
      "The differences between groups are significant.\n",
      "metric time\n",
      "Friedman Test Statistic: 455.0133333333333\n",
      "P-value: 1.4770925438118618e-84\n",
      "The differences between groups are significant.\n"
     ]
    }
   ],
   "source": [
    "# to combine Calib and OOB runs in one CD plot\n",
    "tables_all = {}\n",
    "for exp in exp_names:\n",
    "    path = f\"{main_path}/{exp}\"\n",
    "    dict_data, tables, params = ct.read_results(path)\n",
    "    if len(tables_all) == 0: # for first exp\n",
    "        tables_all = tables\n",
    "    else: # combine tables # for second exp\n",
    "        for table_key in tables.keys():\n",
    "            col_names = np.array((tables[table_key].columns))\n",
    "            col_names += \"_L\"\n",
    "            tables[table_key].columns = col_names\n",
    "            # print(tables[table_key])\n",
    "            # print(f\"key {table_key} col_names\", col_names)\n",
    "            tables_all[table_key] = pd.concat([tables_all[table_key], tables[table_key]], axis=1)\n",
    "            # print(tables_all[table_key])\n",
    "\n",
    "tables_all = ct.add_rank_mean(tables_all)\n",
    "tables_all[\"brier\"]\n",
    "\n",
    "\n",
    "ct.res_statistics(tables_all, params[\"metrics\"], \".\")"
   ]
  }
 ],
 "metadata": {
  "kernelspec": {
   "display_name": "RFcalib",
   "language": "python",
   "name": "python3"
  },
  "language_info": {
   "codemirror_mode": {
    "name": "ipython",
    "version": 3
   },
   "file_extension": ".py",
   "mimetype": "text/x-python",
   "name": "python",
   "nbconvert_exporter": "python",
   "pygments_lexer": "ipython3",
   "version": "3.11.1"
  },
  "orig_nbformat": 4
 },
 "nbformat": 4,
 "nbformat_minor": 2
}
