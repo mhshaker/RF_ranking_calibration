{
 "cells": [
  {
   "cell_type": "code",
   "execution_count": 1,
   "metadata": {},
   "outputs": [],
   "source": [
    "# read saved results (tables) of old runs\n",
    "# combine multiple runs\n",
    "# make significance plots\n",
    "\n",
    "import sys\n",
    "import pandas as pd\n",
    "import numpy as np\n",
    "sys.path.append('../../') # to access the files in higher directories\n",
    "sys.path.append('../') # to access the files in higher directories\n",
    "import pandas as pd\n",
    "import core_tools as ct\n",
    "import core_calib as cal"
   ]
  },
  {
   "cell_type": "code",
   "execution_count": 2,
   "metadata": {},
   "outputs": [],
   "source": [
    "main_path = './Data manipulation/results'\n",
    "# exp_names = [\"1692118038_T10\", \"1692121657_T50\", \"1692130088_T100\", \"1692161204_O50\", \"1692172225_O100\"] # , \"1692107939_Z8T0\"\n",
    "# exp_names = [\"1692351821_RFseed\"]\n",
    "exp_names = [\"1692363985_Laplace\", \"1692351821_RFseed\"]"
   ]
  },
  {
   "cell_type": "code",
   "execution_count": null,
   "metadata": {},
   "outputs": [],
   "source": [
    "# to make latex tables of metrics\n",
    "for exp in exp_names:\n",
    "    path = f\"{main_path}/{exp}\"\n",
    "    dict_data, tables, params = ct.read_results(path)\n",
    "    tables = ct.add_rank_mean(tables)\n",
    "    ct.save_metrics_to_latex(tables, params[\"metrics\"], path, False)"
   ]
  },
  {
   "cell_type": "code",
   "execution_count": null,
   "metadata": {},
   "outputs": [],
   "source": [
    "# to make CD plots for one stand alone exp\n",
    "for exp in exp_names:\n",
    "    path = f\"{main_path}/{exp}\"\n",
    "    dict_data, tables, params = ct.read_results(path)\n",
    "    tables = ct.add_rank_mean(tables)\n",
    "    ct.res_statistics(tables, params[\"metrics\"], path)"
   ]
  },
  {
   "cell_type": "code",
   "execution_count": 3,
   "metadata": {},
   "outputs": [
    {
     "name": "stdout",
     "output_type": "stream",
     "text": [
      "metric acc\n",
      "Friedman Test Statistic: 214.10953260953264\n",
      "P-value: 5.21555313270415e-35\n",
      "The differences between groups are significant.\n",
      "metric brier\n",
      "Friedman Test Statistic: 211.32293785310736\n",
      "P-value: 1.881593186293778e-34\n",
      "The differences between groups are significant.\n",
      "metric ece\n",
      "Friedman Test Statistic: 100.41732580037673\n",
      "P-value: 4.499946892719978e-13\n",
      "The differences between groups are significant.\n",
      "metric logloss\n",
      "Friedman Test Statistic: 235.50839924670422\n",
      "P-value: 2.623749394081463e-39\n",
      "The differences between groups are significant.\n"
     ]
    }
   ],
   "source": [
    "# to combine Calib and OOB runs in one CD plot\n",
    "tables_all = {}\n",
    "for exp in exp_names:\n",
    "    path = f\"{main_path}/{exp}\"\n",
    "    dict_data, tables, params = ct.read_results(path)\n",
    "    if len(tables_all) == 0:\n",
    "        tables_all = tables\n",
    "    else: # combine tables\n",
    "        for table_key in tables.keys():\n",
    "            col_names = np.array((tables[table_key].columns))\n",
    "            col_names += \"_L\"\n",
    "            tables[table_key].columns = col_names\n",
    "            # print(tables[table_key])\n",
    "            # print(f\"key {table_key} col_names\", col_names)\n",
    "            tables_all[table_key] = pd.concat([tables_all[table_key], tables[table_key]], axis=1)\n",
    "            # print(tables_all[table_key])\n",
    "\n",
    "tables_all = ct.add_rank_mean(tables_all)\n",
    "tables_all[\"brier\"]\n",
    "\n",
    "ct.res_statistics(tables_all, params[\"metrics\"], \".\")"
   ]
  }
 ],
 "metadata": {
  "kernelspec": {
   "display_name": "RFcalib",
   "language": "python",
   "name": "python3"
  },
  "language_info": {
   "codemirror_mode": {
    "name": "ipython",
    "version": 3
   },
   "file_extension": ".py",
   "mimetype": "text/x-python",
   "name": "python",
   "nbconvert_exporter": "python",
   "pygments_lexer": "ipython3",
   "version": "3.11.1"
  },
  "orig_nbformat": 4
 },
 "nbformat": 4,
 "nbformat_minor": 2
}
