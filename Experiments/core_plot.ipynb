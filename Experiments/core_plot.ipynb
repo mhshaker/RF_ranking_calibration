{
 "cells": [
  {
   "cell_type": "code",
   "execution_count": 21,
   "metadata": {},
   "outputs": [],
   "source": [
    "# read saved results (tables) of old runs\n",
    "# combine multiple runs\n",
    "# make significance plots\n",
    "\n",
    "import sys\n",
    "import pandas as pd\n",
    "import numpy as np\n",
    "sys.path.append('../../') # to access the files in higher directories\n",
    "sys.path.append('../') # to access the files in higher directories\n",
    "import pandas as pd\n",
    "import core_tools as ct\n",
    "import core_calib as cal"
   ]
  },
  {
   "cell_type": "code",
   "execution_count": 22,
   "metadata": {},
   "outputs": [],
   "source": [
    "main_path = './Data manipulation/results'\n",
    "# exp_names = [\"1692118038_T10\", \"1692121657_T50\", \"1692130088_T100\", \"1692161204_O50\", \"1692172225_O100\"] # , \"1692107939_Z8T0\"\n",
    "exp_names = [\"1698251557_Paper_v3_Real30_MLcomp\"]\n",
    "# exp_names = [\"1698037233_Paper_v2_Real30_OOB_False\", \"1698000930_Paper_v2_Real30_OOB_true\"]"
   ]
  },
  {
   "cell_type": "code",
   "execution_count": 23,
   "metadata": {},
   "outputs": [],
   "source": [
    "# # to make latex tables of metrics\n",
    "# for exp in exp_names:\n",
    "#     path = f\"{main_path}/{exp}\"\n",
    "#     dict_data, tables, params = ct.read_results(path)\n",
    "#     tables = ct.add_rank_mean(tables)\n",
    "#     ct.save_metrics_to_latex(tables, params[\"metrics\"], path, False)"
   ]
  },
  {
   "cell_type": "code",
   "execution_count": 24,
   "metadata": {},
   "outputs": [
    {
     "name": "stdout",
     "output_type": "stream",
     "text": [
      "metric acc\n",
      "Friedman Test Statistic: 56.18604651162791\n",
      "P-value: 2.6694115493544924e-10\n",
      "The differences between groups are significant.\n",
      "metric brier\n",
      "Friedman Test Statistic: 82.7714285714286\n",
      "P-value: 9.551318865442116e-16\n",
      "The differences between groups are significant.\n",
      "metric ece\n",
      "Friedman Test Statistic: 53.97142857142853\n",
      "P-value: 7.475670496378549e-10\n",
      "The differences between groups are significant.\n",
      "metric logloss\n",
      "Friedman Test Statistic: 90.2714285714286\n",
      "P-value: 2.6610733186346468e-17\n",
      "The differences between groups are significant.\n",
      "metric time\n",
      "Friedman Test Statistic: 162.17142857142858\n",
      "P-value: 2.053484084738444e-32\n",
      "The differences between groups are significant.\n"
     ]
    }
   ],
   "source": [
    "colors = {\n",
    "        \"RF_opt\": \"orange\", \n",
    "        \"RF_large\": \"red\",\n",
    "        \"DT\": \"forestgreen\", \n",
    "        \"LR\": \"lightgray\", \n",
    "        \"NN\": \"black\", \n",
    "        \"SVM\": \"dimgrey\", \n",
    "        \"GNB\": \"gray\",\n",
    "    }\n",
    "\n",
    "\n",
    "# to make CD plots for one stand alone exp\n",
    "for exp in exp_names:\n",
    "    path = f\"{main_path}/{exp}\"\n",
    "    dict_data, tables, params = ct.read_results(path)\n",
    "    tables = ct.add_rank_mean(tables)\n",
    "    ct.res_statistics(tables, params[\"metrics\"], path, colors=colors)"
   ]
  },
  {
   "cell_type": "code",
   "execution_count": 25,
   "metadata": {},
   "outputs": [],
   "source": [
    "# to combine Calib and OOB runs in one CD plot\n",
    "# tables_all = {}\n",
    "# for exp in exp_names:\n",
    "#     path = f\"{main_path}/{exp}\"\n",
    "#     dict_data, tables, params = ct.read_results(path)\n",
    "#     if len(tables_all) == 0:\n",
    "#         tables_all = tables\n",
    "#     else: # combine tables\n",
    "#         for table_key in tables.keys():\n",
    "#             col_names = np.array((tables[table_key].columns))\n",
    "#             col_names += \"_OOB\"\n",
    "#             tables[table_key].columns = col_names\n",
    "#             # print(tables[table_key])\n",
    "#             # print(f\"key {table_key} col_names\", col_names)\n",
    "#             tables_all[table_key] = pd.concat([tables_all[table_key], tables[table_key]], axis=1)\n",
    "#             # print(tables_all[table_key])\n",
    "\n",
    "# tables_all = ct.add_rank_mean(tables_all)\n",
    "# tables_all[\"brier\"]\n",
    "\n",
    "# ct.res_statistics(tables_all, params[\"metrics\"], \".\")"
   ]
  }
 ],
 "metadata": {
  "kernelspec": {
   "display_name": "RFcalib",
   "language": "python",
   "name": "python3"
  },
  "language_info": {
   "codemirror_mode": {
    "name": "ipython",
    "version": 3
   },
   "file_extension": ".py",
   "mimetype": "text/x-python",
   "name": "python",
   "nbconvert_exporter": "python",
   "pygments_lexer": "ipython3",
   "version": "3.11.1"
  },
  "orig_nbformat": 4
 },
 "nbformat": 4,
 "nbformat_minor": 2
}
