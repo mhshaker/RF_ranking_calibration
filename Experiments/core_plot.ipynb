{
 "cells": [
  {
   "cell_type": "code",
   "execution_count": 1,
   "metadata": {},
   "outputs": [],
   "source": [
    "# read saved results (tables) of old runs\n",
    "# combine multiple runs\n",
    "# make significance plots\n",
    "\n",
    "import sys\n",
    "import pandas as pd\n",
    "import numpy as np\n",
    "sys.path.append('../../') # to access the files in higher directories\n",
    "sys.path.append('../') # to access the files in higher directories\n",
    "import pandas as pd\n",
    "import core_tools as ct\n",
    "import core_calib as cal"
   ]
  },
  {
   "cell_type": "code",
   "execution_count": 2,
   "metadata": {},
   "outputs": [],
   "source": [
    "main_path = './Data manipulation/results'\n",
    "# exp_names = [\"1692118038_T10\", \"1692121657_T50\", \"1692130088_T100\", \"1692161204_O50\", \"1692172225_O100\"] # , \"1692107939_Z8T0\"\n",
    "exp_names = [\"1697803271_Real30\"]\n",
    "# exp_names = [\"1697532962_bostrom_laplace1\", \"1697535775_bostrom_laplace0\"]"
   ]
  },
  {
   "cell_type": "code",
   "execution_count": 3,
   "metadata": {},
   "outputs": [
    {
     "name": "stderr",
     "output_type": "stream",
     "text": [
      "/Users/mhshaker/Documents/PhD/Projects/RF_ranking_calibration/Experiments/core_tools.py:83: FutureWarning: In future versions `DataFrame.to_latex` is expected to utilise the base implementation of `Styler.to_latex` for formatting and rendering. The arguments signature may therefore change. It is recommended instead to use `DataFrame.style.to_latex` which also contains additional functionality.\n",
      "  tables[metric].round(5).to_latex(f\"{path}/{metric}.txt\")\n",
      "/Users/mhshaker/Documents/PhD/Projects/RF_ranking_calibration/Experiments/core_tools.py:83: FutureWarning: In future versions `DataFrame.to_latex` is expected to utilise the base implementation of `Styler.to_latex` for formatting and rendering. The arguments signature may therefore change. It is recommended instead to use `DataFrame.style.to_latex` which also contains additional functionality.\n",
      "  tables[metric].round(5).to_latex(f\"{path}/{metric}.txt\")\n",
      "/Users/mhshaker/Documents/PhD/Projects/RF_ranking_calibration/Experiments/core_tools.py:83: FutureWarning: In future versions `DataFrame.to_latex` is expected to utilise the base implementation of `Styler.to_latex` for formatting and rendering. The arguments signature may therefore change. It is recommended instead to use `DataFrame.style.to_latex` which also contains additional functionality.\n",
      "  tables[metric].round(5).to_latex(f\"{path}/{metric}.txt\")\n",
      "/Users/mhshaker/Documents/PhD/Projects/RF_ranking_calibration/Experiments/core_tools.py:83: FutureWarning: In future versions `DataFrame.to_latex` is expected to utilise the base implementation of `Styler.to_latex` for formatting and rendering. The arguments signature may therefore change. It is recommended instead to use `DataFrame.style.to_latex` which also contains additional functionality.\n",
      "  tables[metric].round(5).to_latex(f\"{path}/{metric}.txt\")\n"
     ]
    }
   ],
   "source": [
    "# to make latex tables of metrics\n",
    "for exp in exp_names:\n",
    "    path = f\"{main_path}/{exp}\"\n",
    "    dict_data, tables, params = ct.read_results(path)\n",
    "    tables = ct.add_rank_mean(tables)\n",
    "    ct.save_metrics_to_latex(tables, params[\"metrics\"], path, False)"
   ]
  },
  {
   "cell_type": "code",
   "execution_count": 4,
   "metadata": {},
   "outputs": [
    {
     "name": "stdout",
     "output_type": "stream",
     "text": [
      "metric acc\n",
      "Friedman Test Statistic: 176.36686756297334\n",
      "P-value: 1.3294722623192372e-32\n",
      "The differences between groups are significant.\n",
      "metric brier\n",
      "Friedman Test Statistic: 210.50333535476034\n",
      "P-value: 1.0354925417708467e-39\n",
      "The differences between groups are significant.\n",
      "metric ece\n",
      "Friedman Test Statistic: 108.02304426925413\n",
      "P-value: 1.3352999541768299e-18\n",
      "The differences between groups are significant.\n",
      "metric logloss\n",
      "Friedman Test Statistic: 219.96967859308666\n",
      "P-value: 1.0845476833952798e-41\n",
      "The differences between groups are significant.\n"
     ]
    }
   ],
   "source": [
    "# to make CD plots for one stand alone exp\n",
    "for exp in exp_names:\n",
    "    path = f\"{main_path}/{exp}\"\n",
    "    dict_data, tables, params = ct.read_results(path)\n",
    "    tables = ct.add_rank_mean(tables)\n",
    "    ct.res_statistics(tables, params[\"metrics\"], path)"
   ]
  },
  {
   "cell_type": "code",
   "execution_count": 5,
   "metadata": {},
   "outputs": [],
   "source": [
    "# # to combine Calib and OOB runs in one CD plot\n",
    "# tables_all = {}\n",
    "# for exp in exp_names:\n",
    "#     path = f\"{main_path}/{exp}\"\n",
    "#     dict_data, tables, params = ct.read_results(path)\n",
    "#     if len(tables_all) == 0:\n",
    "#         tables_all = tables\n",
    "#     else: # combine tables\n",
    "#         for table_key in tables.keys():\n",
    "#             col_names = np.array((tables[table_key].columns))\n",
    "#             col_names += \"_L1\"\n",
    "#             tables[table_key].columns = col_names\n",
    "#             # print(tables[table_key])\n",
    "#             # print(f\"key {table_key} col_names\", col_names)\n",
    "#             tables_all[table_key] = pd.concat([tables_all[table_key], tables[table_key]], axis=1)\n",
    "#             # print(tables_all[table_key])\n",
    "\n",
    "# tables_all = ct.add_rank_mean(tables_all)\n",
    "# tables_all[\"brier\"]\n",
    "\n",
    "# ct.res_statistics(tables_all, params[\"metrics\"], \".\")"
   ]
  }
 ],
 "metadata": {
  "kernelspec": {
   "display_name": "RFcalib",
   "language": "python",
   "name": "python3"
  },
  "language_info": {
   "codemirror_mode": {
    "name": "ipython",
    "version": 3
   },
   "file_extension": ".py",
   "mimetype": "text/x-python",
   "name": "python",
   "nbconvert_exporter": "python",
   "pygments_lexer": "ipython3",
   "version": "3.11.1"
  },
  "orig_nbformat": 4
 },
 "nbformat": 4,
 "nbformat_minor": 2
}
