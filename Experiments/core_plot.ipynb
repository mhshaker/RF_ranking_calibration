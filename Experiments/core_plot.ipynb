{
 "cells": [
  {
   "cell_type": "code",
   "execution_count": 1,
   "metadata": {},
   "outputs": [],
   "source": [
    "# read saved results (tables) of old runs\n",
    "# combine multiple runs\n",
    "# make significance plots\n",
    "\n",
    "import sys\n",
    "import pandas as pd\n",
    "import numpy as np\n",
    "sys.path.append('../../') # to access the files in higher directories\n",
    "sys.path.append('../') # to access the files in higher directories\n",
    "import pandas as pd\n",
    "import core_tools as ct\n",
    "import core_calib as cal"
   ]
  },
  {
   "cell_type": "code",
   "execution_count": 2,
   "metadata": {},
   "outputs": [],
   "source": [
    "main_path = './Data manipulation/results'\n",
    "# exp_names = [\"1692118038_T10\", \"1692121657_T50\", \"1692130088_T100\", \"1692161204_O50\", \"1692172225_O100\"] # , \"1692107939_Z8T0\"\n",
    "exp_names = [\"1692121657_T50\", \"1692161204_O50\"]\n",
    "\n",
    "cm = [\n",
    "    \"RF_d\", \"RF_opt\",\n",
    "    \"Platt\", \"ISO\", \"Beta\", \"CRF\", \"VA\",\n",
    "    \"tlr\", \"Rank\", \n",
    "    \"RF_large\"\n",
    "]"
   ]
  },
  {
   "cell_type": "code",
   "execution_count": 3,
   "metadata": {},
   "outputs": [
    {
     "name": "stdout",
     "output_type": "stream",
     "text": [
      "Friedman Test Statistic: 199.3213773314203\n",
      "P-value: 4.6455316517634877e-32\n",
      "The differences between groups are significant.\n",
      "Friedman Test Statistic: 207.69518072289154\n",
      "P-value: 9.977251822991084e-34\n",
      "The differences between groups are significant.\n",
      "Friedman Test Statistic: 147.83945783132532\n",
      "P-value: 5.716600687520105e-22\n",
      "The differences between groups are significant.\n",
      "Friedman Test Statistic: 251.26927710843376\n",
      "P-value: 1.7121683601454507e-42\n",
      "The differences between groups are significant.\n"
     ]
    }
   ],
   "source": [
    "tables_all = {}\n",
    "for exp in exp_names:\n",
    "    path = f\"{main_path}/{exp}\"\n",
    "    dict_data, tables, params = ct.read_results(path)\n",
    "    if len(tables_all) == 0:\n",
    "        tables_all = tables\n",
    "    else: # combine tables\n",
    "        for table_key in tables.keys():\n",
    "            col_names = np.array((tables[table_key].columns))\n",
    "            col_names += \"_OOB\"\n",
    "            tables[table_key].columns = col_names\n",
    "            # print(tables[table_key])\n",
    "            # print(f\"key {table_key} col_names\", col_names)\n",
    "            tables_all[table_key] = pd.concat([tables_all[table_key], tables[table_key]], axis=1)\n",
    "            # print(tables_all[table_key])\n",
    "\n",
    "tables_all = ct.add_rank_mean(tables_all)\n",
    "tables_all[\"brier\"]\n",
    "\n",
    "ct.res_statistics(tables_all, params[\"metrics\"], \".\")"
   ]
  }
 ],
 "metadata": {
  "kernelspec": {
   "display_name": "RFcalib",
   "language": "python",
   "name": "python3"
  },
  "language_info": {
   "codemirror_mode": {
    "name": "ipython",
    "version": 3
   },
   "file_extension": ".py",
   "mimetype": "text/x-python",
   "name": "python",
   "nbconvert_exporter": "python",
   "pygments_lexer": "ipython3",
   "version": "3.11.1"
  },
  "orig_nbformat": 4
 },
 "nbformat": 4,
 "nbformat_minor": 2
}
