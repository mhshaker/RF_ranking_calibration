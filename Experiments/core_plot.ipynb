{
 "cells": [
  {
   "cell_type": "code",
   "execution_count": 1,
   "metadata": {},
   "outputs": [],
   "source": [
    "# read saved results (tables) of old runs\n",
    "# combine multiple runs\n",
    "# make significance plots\n",
    "\n",
    "import sys\n",
    "import pandas as pd\n",
    "import numpy as np\n",
    "sys.path.append('../../') # to access the files in higher directories\n",
    "sys.path.append('../') # to access the files in higher directories\n",
    "import pandas as pd\n",
    "import core_tools as ct\n",
    "import core_calib as cal"
   ]
  },
  {
   "cell_type": "code",
   "execution_count": 2,
   "metadata": {},
   "outputs": [],
   "source": [
    "main_path = './Data manipulation/results'\n",
    "# exp_names = [\"1692118038_T10\", \"1692121657_T50\", \"1692130088_T100\", \"1692161204_O50\", \"1692172225_O100\"] # , \"1692107939_Z8T0\"\n",
    "exp_names = [\"1698157809_Paper_v3_Real30\"]\n",
    "# exp_names = [\"1698037233_Paper_v2_Real30_OOB_False\", \"1698000930_Paper_v2_Real30_OOB_true\"]"
   ]
  },
  {
   "cell_type": "code",
   "execution_count": 3,
   "metadata": {},
   "outputs": [
    {
     "name": "stderr",
     "output_type": "stream",
     "text": [
      "/Users/mhshaker/Documents/PhD/Projects/RF_ranking_calibration/Experiments/core_tools.py:83: FutureWarning: In future versions `DataFrame.to_latex` is expected to utilise the base implementation of `Styler.to_latex` for formatting and rendering. The arguments signature may therefore change. It is recommended instead to use `DataFrame.style.to_latex` which also contains additional functionality.\n",
      "  tables[metric].round(5).to_latex(f\"{path}/{metric}.txt\")\n",
      "/Users/mhshaker/Documents/PhD/Projects/RF_ranking_calibration/Experiments/core_tools.py:83: FutureWarning: In future versions `DataFrame.to_latex` is expected to utilise the base implementation of `Styler.to_latex` for formatting and rendering. The arguments signature may therefore change. It is recommended instead to use `DataFrame.style.to_latex` which also contains additional functionality.\n",
      "  tables[metric].round(5).to_latex(f\"{path}/{metric}.txt\")\n",
      "/Users/mhshaker/Documents/PhD/Projects/RF_ranking_calibration/Experiments/core_tools.py:83: FutureWarning: In future versions `DataFrame.to_latex` is expected to utilise the base implementation of `Styler.to_latex` for formatting and rendering. The arguments signature may therefore change. It is recommended instead to use `DataFrame.style.to_latex` which also contains additional functionality.\n",
      "  tables[metric].round(5).to_latex(f\"{path}/{metric}.txt\")\n",
      "/Users/mhshaker/Documents/PhD/Projects/RF_ranking_calibration/Experiments/core_tools.py:83: FutureWarning: In future versions `DataFrame.to_latex` is expected to utilise the base implementation of `Styler.to_latex` for formatting and rendering. The arguments signature may therefore change. It is recommended instead to use `DataFrame.style.to_latex` which also contains additional functionality.\n",
      "  tables[metric].round(5).to_latex(f\"{path}/{metric}.txt\")\n"
     ]
    }
   ],
   "source": [
    "# to make latex tables of metrics\n",
    "for exp in exp_names:\n",
    "    path = f\"{main_path}/{exp}\"\n",
    "    dict_data, tables, params = ct.read_results(path)\n",
    "    tables = ct.add_rank_mean(tables)\n",
    "    ct.save_metrics_to_latex(tables, params[\"metrics\"], path, False)"
   ]
  },
  {
   "cell_type": "code",
   "execution_count": 4,
   "metadata": {},
   "outputs": [
    {
     "name": "stdout",
     "output_type": "stream",
     "text": [
      "metric acc\n",
      "Friedman Test Statistic: 170.59070418156378\n",
      "P-value: 2.093113980814327e-31\n",
      "The differences between groups are significant.\n",
      "metric brier\n",
      "Friedman Test Statistic: 195.4493105015912\n",
      "P-value: 1.4337837708588673e-36\n",
      "The differences between groups are significant.\n",
      "metric ece\n",
      "Friedman Test Statistic: 121.49265040157601\n",
      "P-value: 2.5184731081692223e-21\n",
      "The differences between groups are significant.\n",
      "metric logloss\n",
      "Friedman Test Statistic: 195.2553417184422\n",
      "P-value: 1.5736081209521642e-36\n",
      "The differences between groups are significant.\n",
      "metric acc\n",
      "Friedman Test Statistic: 125.96027525805441\n",
      "P-value: 3.109515873684327e-22\n",
      "The differences between groups are significant.\n",
      "metric brier\n",
      "Friedman Test Statistic: 174.0\n",
      "P-value: 4.1156746796410126e-32\n",
      "The differences between groups are significant.\n",
      "metric ece\n",
      "Friedman Test Statistic: 171.25644916540213\n",
      "P-value: 1.5237491704236133e-31\n",
      "The differences between groups are significant.\n",
      "metric logloss\n",
      "Friedman Test Statistic: 196.7253414264037\n",
      "P-value: 7.772918183649885e-37\n",
      "The differences between groups are significant.\n"
     ]
    }
   ],
   "source": [
    "# to make CD plots for one stand alone exp\n",
    "for exp in exp_names:\n",
    "    path = f\"{main_path}/{exp}\"\n",
    "    dict_data, tables, params = ct.read_results(path)\n",
    "    tables = ct.add_rank_mean(tables)\n",
    "    ct.res_statistics(tables, params[\"metrics\"], path)"
   ]
  },
  {
   "cell_type": "code",
   "execution_count": 5,
   "metadata": {},
   "outputs": [
    {
     "name": "stdout",
     "output_type": "stream",
     "text": [
      "metric acc\n",
      "Friedman Test Statistic: 328.66786143294433\n",
      "P-value: 4.4817151944789145e-57\n",
      "The differences between groups are significant.\n",
      "metric brier\n",
      "Friedman Test Statistic: 416.65132459696423\n",
      "P-value: 3.305226341855548e-75\n",
      "The differences between groups are significant.\n",
      "metric ece\n",
      "Friedman Test Statistic: 314.8408220986143\n",
      "P-value: 3.0045158885548134e-54\n",
      "The differences between groups are significant.\n",
      "metric logloss\n",
      "Friedman Test Statistic: 426.9844253794663\n",
      "P-value: 2.376693465787682e-77\n",
      "The differences between groups are significant.\n"
     ]
    }
   ],
   "source": [
    "# to combine Calib and OOB runs in one CD plot\n",
    "tables_all = {}\n",
    "for exp in exp_names:\n",
    "    path = f\"{main_path}/{exp}\"\n",
    "    dict_data, tables, params = ct.read_results(path)\n",
    "    if len(tables_all) == 0:\n",
    "        tables_all = tables\n",
    "    else: # combine tables\n",
    "        for table_key in tables.keys():\n",
    "            col_names = np.array((tables[table_key].columns))\n",
    "            col_names += \"_OOB\"\n",
    "            tables[table_key].columns = col_names\n",
    "            # print(tables[table_key])\n",
    "            # print(f\"key {table_key} col_names\", col_names)\n",
    "            tables_all[table_key] = pd.concat([tables_all[table_key], tables[table_key]], axis=1)\n",
    "            # print(tables_all[table_key])\n",
    "\n",
    "tables_all = ct.add_rank_mean(tables_all)\n",
    "tables_all[\"brier\"]\n",
    "\n",
    "ct.res_statistics(tables_all, params[\"metrics\"], \".\")"
   ]
  }
 ],
 "metadata": {
  "kernelspec": {
   "display_name": "RFcalib",
   "language": "python",
   "name": "python3"
  },
  "language_info": {
   "codemirror_mode": {
    "name": "ipython",
    "version": 3
   },
   "file_extension": ".py",
   "mimetype": "text/x-python",
   "name": "python",
   "nbconvert_exporter": "python",
   "pygments_lexer": "ipython3",
   "version": "3.11.1"
  },
  "orig_nbformat": 4
 },
 "nbformat": 4,
 "nbformat_minor": 2
}
