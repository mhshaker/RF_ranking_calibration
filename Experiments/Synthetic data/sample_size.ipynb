{
 "cells": [
  {
   "cell_type": "code",
   "execution_count": 1,
   "metadata": {},
   "outputs": [],
   "source": [
    "# How changing the dataset sample size effects the calibration methods\n",
    "# Fix training dataset size and change the calib set samples - best method is one that gets max calib with least data"
   ]
  },
  {
   "cell_type": "code",
   "execution_count": 2,
   "metadata": {},
   "outputs": [],
   "source": [
    "# imports\n",
    "import sys\n",
    "import pandas as pd\n",
    "sys.path.append('../../') # to access the files in higher directories\n",
    "sys.path.append('../') # to access the files in higher directories\n",
    "pd.set_option('display.max_rows', 500)\n",
    "pd.set_option('display.max_columns', 500)\n",
    "pd.set_option('display.width', 1000)\n",
    "\n",
    "import Data.data_provider as dp\n",
    "import core as cal\n",
    "from estimators.IR_RF_estimator import IR_RF"
   ]
  },
  {
   "cell_type": "code",
   "execution_count": 3,
   "metadata": {},
   "outputs": [],
   "source": [
    "# params\n",
    "seed = 0\n",
    "runs = 100\n",
    "calib_methods = [\"RF\", \"Platt\" , \"ISO\", \"Rank\", \"CRF\", \"VA\", \"Beta\", \"Elkan\", \"tlr\"]\n",
    "metrics = [\"acc\", \"auc\", \"brier\", \"ece\"]\n",
    "# data_list = [\"spambase\", \"climate\", \"QSAR\", \"bank\", \"climate\", \"parkinsons\", \"vertebral\", \"ionosphere\", \"diabetes\", \"breast\", \"blod\"]\n",
    "data_list = [\"spambase\", \"climate\"]\n",
    "# data_list = [\"synthetic1\"] # , \"synthetic2\"\n",
    "\n",
    "params = {\n",
    "    \"n_estimators\": 100,\n",
    "    \"oob\": False,\n",
    "}"
   ]
  },
  {
   "cell_type": "code",
   "execution_count": 4,
   "metadata": {},
   "outputs": [
    {
     "name": "stdout",
     "output_type": "stream",
     "text": [
      "--------------------------------- acc\n",
      "                RF     Platt       ISO      Rank       CRF        VA      Beta     Elkan       tlr\n",
      "Data                                                                                              \n",
      "spambase  0.950760  0.950760  0.951484  0.947864  0.950760  0.409848  0.950760  0.950760  0.943519\n",
      "climate   0.918025  0.926975  0.924321  0.873580  0.918025  0.917099  0.926235  0.918025  0.917099\n",
      "Mean      0.934393  0.938868  0.937903  0.910722  0.934393  0.663473  0.938497  0.934393  0.930309\n",
      "Rank      4.500000  2.500000  2.000000  8.000000  4.500000  8.250000  3.000000  4.500000  7.750000\n",
      "--------------------------------- auc\n",
      "                RF     Platt       ISO      Rank       CRF        VA      Beta     Elkan       tlr\n",
      "Data                                                                                              \n",
      "spambase  0.984895  0.984895  0.984212  0.983106  0.984895  0.984802  0.984895  0.984895  0.979499\n",
      "climate   0.864999  0.864999  0.847739  0.840278  0.864999  0.845855  0.864999  0.864999  0.659705\n",
      "Mean      0.924947  0.924947  0.915975  0.911692  0.924947  0.915329  0.924947  0.924947  0.819602\n",
      "Rank      3.000000  3.000000  6.500000  8.000000  3.000000  6.500000  3.000000  3.000000  9.000000\n",
      "--------------------------------- brier\n",
      "                RF     Platt       ISO      Rank       CRF        VA      Beta     Elkan       tlr\n",
      "Data                                                                                              \n",
      "spambase  0.048663  0.037500  0.038171  0.041305  0.040887  0.037878  0.037573  0.048663  0.049415\n",
      "climate   0.062742  0.058249  0.061030  0.103708  0.063099  0.060201  0.058586  0.062742  0.081820\n",
      "Mean      0.055702  0.047875  0.049600  0.072506  0.051993  0.049040  0.048080  0.055702  0.065618\n",
      "Rank      6.500000  1.000000  4.000000  7.500000  6.000000  3.000000  2.000000  6.500000  8.500000\n",
      "--------------------------------- ece\n",
      "                RF     Platt       ISO      Rank       CRF        VA      Beta     Elkan       tlr\n",
      "Data                                                                                              \n",
      "spambase  0.085782  0.007841  0.010520  0.013080  0.039347  0.011591  0.010313  0.085782  0.038168\n",
      "climate   0.065682  0.046629  0.045263  0.149621  0.064708  0.044651  0.045001  0.065682  0.080947\n",
      "Mean      0.075732  0.027235  0.027891  0.081350  0.052028  0.028121  0.027657  0.075732  0.059557\n",
      "Rank      7.750000  2.500000  3.000000  7.000000  6.000000  2.500000  2.000000  7.250000  7.000000\n"
     ]
    }
   ],
   "source": [
    "results_dict = {}\n",
    "for data_name in data_list:\n",
    "    # Data\n",
    "    X, y = dp.load_data(data_name, \"../../\")\n",
    "    # X, y, tp = dp.make_classification_gaussian_with_true_prob(30, 4, 0)\n",
    "    # split to train calib test\n",
    "\n",
    "    data_dict = {}\n",
    "    for seed in range(runs):\n",
    "        data = cal.split_train_calib_test(data_name, X, y, 0.3, 0.5, seed)\n",
    "        # train model\n",
    "        irrf = IR_RF(n_estimators=params[\"n_estimators\"], oob_score=params[\"oob\"], random_state=seed)\n",
    "        irrf.fit(data[\"x_train\"], data[\"y_train\"])\n",
    "\n",
    "        # calibration\n",
    "        res = cal.calibration(irrf, data, calib_methods, metrics)\n",
    "        data_dict = cal.update_runs(data_dict, res)\n",
    "    results_dict.update(data_dict)\n",
    "\n",
    "table = cal.mean_and_ranking_table(results_dict, metrics, calib_methods, data_list)"
   ]
  }
 ],
 "metadata": {
  "kernelspec": {
   "display_name": "Python 3",
   "language": "python",
   "name": "python3"
  },
  "language_info": {
   "codemirror_mode": {
    "name": "ipython",
    "version": 3
   },
   "file_extension": ".py",
   "mimetype": "text/x-python",
   "name": "python",
   "nbconvert_exporter": "python",
   "pygments_lexer": "ipython3",
   "version": "3.11.1"
  },
  "orig_nbformat": 4,
  "vscode": {
   "interpreter": {
    "hash": "aee8b7b246df8f9039afb4144a1f6fd8d2ca17a180786b69acc140d282b71a49"
   }
  }
 },
 "nbformat": 4,
 "nbformat_minor": 2
}
