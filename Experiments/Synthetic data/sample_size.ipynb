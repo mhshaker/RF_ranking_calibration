{
 "cells": [
  {
   "cell_type": "code",
   "execution_count": 10,
   "metadata": {},
   "outputs": [],
   "source": [
    "# How changing the dataset sample size effects the calibration methods\n",
    "# Fix training dataset size and change the calib set samples - best method is one that gets max calib with least data"
   ]
  },
  {
   "cell_type": "code",
   "execution_count": 11,
   "metadata": {},
   "outputs": [],
   "source": [
    "# imports\n",
    "import sys\n",
    "import pandas as pd\n",
    "sys.path.append('../../') # to access the files in higher directories\n",
    "sys.path.append('../') # to access the files in higher directories\n",
    "pd.set_option('display.max_rows', 500)\n",
    "pd.set_option('display.max_columns', 500)\n",
    "pd.set_option('display.width', 1000)\n",
    "\n",
    "import Data.data_provider as dp\n",
    "import core as cal\n",
    "from estimators.IR_RF_estimator import IR_RF"
   ]
  },
  {
   "cell_type": "code",
   "execution_count": 12,
   "metadata": {},
   "outputs": [],
   "source": [
    "# params\n",
    "seed = 0\n",
    "runs = 100\n",
    "calib_methods = [\"RF\", \"Platt\" , \"ISO\", \"Rank\", \"CRF\", \"VA\", \"Beta\", \"Elkan\", \"tlr\"]\n",
    "metrics = [\"acc\", \"auc\", \"brier\", \"ece\"]\n",
    "# data_list = [\"spambase\", \"climate\", \"QSAR\", \"bank\", \"climate\", \"parkinsons\", \"vertebral\", \"ionosphere\", \"diabetes\", \"breast\", \"blod\"]\n",
    "data_list = [\"spambase\", \"climate\"]\n",
    "# data_list = [\"synthetic1\"] # , \"synthetic2\"\n",
    "\n",
    "params = {\n",
    "    \"n_estimators\": 100,\n",
    "    \"oob\": False,\n",
    "}"
   ]
  },
  {
   "cell_type": "code",
   "execution_count": 13,
   "metadata": {},
   "outputs": [
    {
     "name": "stdout",
     "output_type": "stream",
     "text": [
      "--------------------------------- acc\n",
      "                RF     Platt       ISO      Rank       CRF        VA      Beta     Elkan       tlr\n",
      "Data                                                                                              \n",
      "spambase  0.924692  0.923244  0.923968  0.929037  0.924692  0.385228  0.923968  0.924692  0.923244\n",
      "climate   0.922222  0.927160  0.928395  0.881481  0.922222  0.919753  0.927160  0.922222  0.919753\n",
      "Mean      0.923457  0.925202  0.926182  0.905259  0.923457  0.652491  0.925564  0.923457  0.921499\n",
      "Rank      4.000000  5.000000  3.250000  5.000000  4.000000  8.250000  4.000000  4.000000  7.500000\n",
      "--------------------------------- auc\n",
      "                RF     Platt       ISO      Rank       CRF        VA      Beta     Elkan       tlr\n",
      "Data                                                                                              \n",
      "spambase  0.972836  0.972836  0.972562  0.971828  0.972836  0.972683  0.972836  0.972836  0.968025\n",
      "climate   0.820593  0.820593  0.801279  0.816020  0.820593  0.802153  0.820593  0.820593  0.498000\n",
      "Mean      0.896714  0.896714  0.886920  0.893924  0.896714  0.887418  0.896714  0.896714  0.733013\n",
      "Rank      3.000000  3.000000  7.500000  7.000000  3.000000  6.500000  3.000000  3.000000  9.000000\n",
      "--------------------------------- brier\n",
      "                RF     Platt       ISO      Rank       CRF        VA      Beta     Elkan       tlr\n",
      "Data                                                                                              \n",
      "spambase  0.059464  0.056354  0.057913  0.056173  0.059487  0.058163  0.055423  0.059464  0.058936\n",
      "climate   0.060937  0.059034  0.060499  0.089674  0.061705  0.061162  0.059376  0.060937  0.080284\n",
      "Mean      0.060201  0.057694  0.059206  0.072923  0.060596  0.059662  0.057399  0.060201  0.069610\n",
      "Rank      6.000000  2.000000  3.500000  5.500000  8.000000  5.500000  1.500000  6.000000  7.000000\n",
      "--------------------------------- ece\n",
      "                RF     Platt       ISO      Rank       CRF        VA      Beta     Elkan       tlr\n",
      "Data                                                                                              \n",
      "spambase  0.049458  0.021249  0.026518  0.019698  0.033961  0.022442  0.012954  0.049458  0.022954\n",
      "climate   0.044433  0.042675  0.039519  0.130159  0.044561  0.037556  0.045256  0.044433  0.080617\n",
      "Mean      0.046945  0.031962  0.033019  0.074928  0.039261  0.029999  0.029105  0.046945  0.051786\n",
      "Rank      6.250000  3.000000  4.000000  5.500000  6.500000  2.500000  4.000000  6.750000  6.500000\n"
     ]
    }
   ],
   "source": [
    "results_dict = {}\n",
    "for data_name in data_list:\n",
    "    # Data\n",
    "    X, y = dp.load_data(data_name, \"../../\")\n",
    "    # X, y, tp = dp.make_classification_gaussian_with_true_prob(30, 4, 0)\n",
    "    # split to train calib test\n",
    "\n",
    "    data_dict = {}\n",
    "    for seed in range(runs):\n",
    "        data = cal.split_train_calib_test(data_name, X, y, 0.3, 0.5, seed)\n",
    "        # train model\n",
    "        irrf = IR_RF(n_estimators=params[\"n_estimators\"], oob_score=params[\"oob\"], random_state=seed)\n",
    "        irrf.fit(data[\"x_train\"], data[\"y_train\"])\n",
    "\n",
    "        # calibration\n",
    "        res = cal.calibration(irrf, data, calib_methods, metrics)\n",
    "        data_dict = cal.update_runs(data_dict, res)\n",
    "    results_dict.update(data_dict)\n",
    "\n",
    "table = cal.mean_and_ranking_table(results_dict, metrics, calib_methods, data_list)"
   ]
  }
 ],
 "metadata": {
  "kernelspec": {
   "display_name": "Python 3",
   "language": "python",
   "name": "python3"
  },
  "language_info": {
   "codemirror_mode": {
    "name": "ipython",
    "version": 3
   },
   "file_extension": ".py",
   "mimetype": "text/x-python",
   "name": "python",
   "nbconvert_exporter": "python",
   "pygments_lexer": "ipython3",
   "version": "3.11.1"
  },
  "orig_nbformat": 4,
  "vscode": {
   "interpreter": {
    "hash": "aee8b7b246df8f9039afb4144a1f6fd8d2ca17a180786b69acc140d282b71a49"
   }
  }
 },
 "nbformat": 4,
 "nbformat_minor": 2
}
